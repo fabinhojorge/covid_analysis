{
 "cells": [
  {
   "cell_type": "markdown",
   "metadata": {},
   "source": [
    "# Análise do covid no Brasil\n",
    "\n",
    "## Introdução\n",
    "\n",
    "Esta é uma análise exploratória inicial dos dados do COVID-19 no Brasil.\n",
    "\n",
    "\n",
    "### Objetivo\n",
    "\n",
    "O principal objetivo é entender a distribuição da população contaminada por COVID-19 e verificar se fatores como idade, sexo e fatores de risco contribuem para complicação da doença.\n",
    "\n",
    "\n",
    "### Metodologia\n",
    "\n",
    "Na primeira parte, é feita uma análise na base e em suas variáveis, entendendo o significado e distribuição delas. E caso necessário, realizamos alguma limpeza/tratamento.\n",
    "\n",
    "Na segunda parte da análise, criamos algumas hipóteses a respeito dos dados. \n",
    "\n",
    "### Resultado Esperado\n",
    "\n",
    "O resultado sera analisado por meio de graficos, a fim de entendermos as distribuições e suas caracteristicas.\n",
    "Além disso, podera ser usado um comparativo para ver se as hipóteses possuem significância estatística.\n",
    "\n",
    "\n",
    "## Base de Dados\n",
    "\n",
    "Foi utilizado dados abertos disponíveis em [https://opendatasus.saude.gov.br/dataset/bd-srag-2020](https://opendatasus.saude.gov.br/dataset/bd-srag-2020) com a data de 18/05/2020.\n",
    "\n",
    "Esta base é disponibilizada pelo ***Vigilância de Síndrome Respiratória Aguda Grave (SRAG)***. O SRAG é um programa da Secretaria de Vigilância em Saúde (SVS).\n",
    "\n",
    "O Dicionário com o significado de cada uma das colunas esta localizado [Aqui](https://opendatasus.saude.gov.br/dataset/9bc2013f-f293-4f3e-94e7-fa76204fc035/resource/20e51b77-b129-4fd5-84f6-e9428ab5e286/download/dicionario_de_dados_srag_hospitalizado_atual-sivepgripe.pdf)"
   ]
  },
  {
   "cell_type": "markdown",
   "metadata": {},
   "source": [
    "## Análise da Base e das Características"
   ]
  },
  {
   "cell_type": "code",
   "execution_count": 84,
   "metadata": {},
   "outputs": [],
   "source": [
    "import pandas as pd\n",
    "import numpy as np\n",
    "import matplotlib.pyplot as plt\n",
    "import seaborn as sns"
   ]
  },
  {
   "cell_type": "code",
   "execution_count": 85,
   "metadata": {},
   "outputs": [],
   "source": [
    "pd.options.display.max_columns = 20"
   ]
  },
  {
   "cell_type": "code",
   "execution_count": 86,
   "metadata": {},
   "outputs": [],
   "source": [
    "df_full = pd.read_csv('data/sraghosp_18.05.2020.csv', low_memory=False)"
   ]
  },
  {
   "cell_type": "code",
   "execution_count": 87,
   "metadata": {
    "scrolled": false
   },
   "outputs": [
    {
     "name": "stdout",
     "output_type": "stream",
     "text": [
      "<class 'pandas.core.frame.DataFrame'>\n",
      "RangeIndex: 157268 entries, 0 to 157267\n",
      "Columns: 141 entries, Unnamed: 0 to PAC_DSCBO\n",
      "dtypes: float64(80), int64(11), object(50)\n",
      "memory usage: 169.2+ MB\n"
     ]
    }
   ],
   "source": [
    "df_full.info()"
   ]
  },
  {
   "cell_type": "markdown",
   "metadata": {},
   "source": [
    "A base possui muitas colunas (141), e ao analisar o Dicionário de dados, notei que muitas delas não serão úteis para análise da população do COVID. Vamos ler o documento de Discionário e fazer uma filtragem em alto nível de quais colunas ficam."
   ]
  },
  {
   "cell_type": "code",
   "execution_count": 88,
   "metadata": {},
   "outputs": [],
   "source": [
    "cols_to_drop = ['Unnamed: 0', 'CS_ETINIA', 'NU_CEP', 'ID_PAIS', 'ID_RG_RESI', 'CO_RG_RESI', 'AVE_SUINO', 'NOSOCOMIAL', 'VACINA', 'DT_UT_DOSE', 'MAE_VAC', 'DT_VAC_MAE', 'M_AMAMENTA', 'DT_DOSEUNI', 'DT_1_DOSE', 'DT_2_DOSE', 'ANTIVIRAL', 'TP_ANTIVIR', 'OUT_ANTIV', 'DT_ANTIVIR', 'RAIOX_RES', 'RAIOX_OUT', 'DT_RAIOX', 'AMOSTRA', 'DT_COLETA', 'TP_AMOSTRA', 'OUT_AMOST', 'REQUI_GAL', 'DT_IF', 'POS_IF_FLU', 'TP_FLU_IF', 'POS_IF_OUT', 'IF_VSR', 'IF_PARA1', 'IF_PARA2', 'IF_PARA3', 'IF_ADENO', 'IF_OUTRO', 'DS_IF_OUT', 'LAB_IF', 'CO_LAB_IF', 'PCR_RESUL', 'DT_PCR', 'TP_FLU_PCR', 'PCR_FLUASU', 'FLUASU_OUT', 'PCR_FLUBLI', 'FLUBLI_OUT', 'POS_PCROUT', 'PCR_VSR', 'PCR_PARA1', 'PCR_PARA2', 'PCR_PARA3', 'PCR_PARA4', 'PCR_ADENO', 'PCR_METAP', 'PCR_BOCA', 'PCR_RINO', 'PCR_OUTRO', 'DS_PCR_OUT', 'CLASSI_OUT', 'HISTO_VGM', 'PAIS_VGM', 'CO_PS_VGM', 'LO_PS_VGM', 'DT_VGM', 'DT_RT_VGM', 'PCR_SARS2', 'PAC_COCBO', 'PAC_DSCBO',]\n",
    "df_clean = df_full.drop(cols_to_drop, axis=1)"
   ]
  },
  {
   "cell_type": "code",
   "execution_count": 89,
   "metadata": {},
   "outputs": [
    {
     "name": "stdout",
     "output_type": "stream",
     "text": [
      "<class 'pandas.core.frame.DataFrame'>\n",
      "RangeIndex: 157268 entries, 0 to 157267\n",
      "Columns: 71 entries, DT_NOTIFIC to DT_DIGITA\n",
      "dtypes: float64(40), int64(9), object(22)\n",
      "memory usage: 85.2+ MB\n"
     ]
    }
   ],
   "source": [
    "df_clean.info(verbose=False)"
   ]
  },
  {
   "cell_type": "code",
   "execution_count": 90,
   "metadata": {},
   "outputs": [
    {
     "data": {
      "text/html": [
       "<div>\n",
       "<style scoped>\n",
       "    .dataframe tbody tr th:only-of-type {\n",
       "        vertical-align: middle;\n",
       "    }\n",
       "\n",
       "    .dataframe tbody tr th {\n",
       "        vertical-align: top;\n",
       "    }\n",
       "\n",
       "    .dataframe thead th {\n",
       "        text-align: right;\n",
       "    }\n",
       "</style>\n",
       "<table border=\"1\" class=\"dataframe\">\n",
       "  <thead>\n",
       "    <tr style=\"text-align: right;\">\n",
       "      <th></th>\n",
       "      <th>DT_NOTIFIC</th>\n",
       "      <th>SEM_NOT</th>\n",
       "      <th>DT_SIN_PRI</th>\n",
       "      <th>SEM_PRI</th>\n",
       "      <th>SG_UF_NOT</th>\n",
       "      <th>ID_REGIONA</th>\n",
       "      <th>CO_REGIONA</th>\n",
       "      <th>ID_MUNICIP</th>\n",
       "      <th>CO_MUN_NOT</th>\n",
       "      <th>ID_UNIDADE</th>\n",
       "      <th>...</th>\n",
       "      <th>IF_RESUL</th>\n",
       "      <th>POS_PCRFLU</th>\n",
       "      <th>LAB_PCR</th>\n",
       "      <th>CO_LAB_PCR</th>\n",
       "      <th>CLASSI_FIN</th>\n",
       "      <th>CRITERIO</th>\n",
       "      <th>EVOLUCAO</th>\n",
       "      <th>DT_EVOLUCA</th>\n",
       "      <th>DT_ENCERRA</th>\n",
       "      <th>DT_DIGITA</th>\n",
       "    </tr>\n",
       "  </thead>\n",
       "  <tbody>\n",
       "    <tr>\n",
       "      <th>22904</th>\n",
       "      <td>2020-03-18</td>\n",
       "      <td>12</td>\n",
       "      <td>2020-03-16</td>\n",
       "      <td>12</td>\n",
       "      <td>DF</td>\n",
       "      <td>NaN</td>\n",
       "      <td>NaN</td>\n",
       "      <td>BRASILIA</td>\n",
       "      <td>530010</td>\n",
       "      <td>HRL</td>\n",
       "      <td>...</td>\n",
       "      <td>4.0</td>\n",
       "      <td>2.0</td>\n",
       "      <td>LACEN DF</td>\n",
       "      <td>11371.0</td>\n",
       "      <td>2.0</td>\n",
       "      <td>1.0</td>\n",
       "      <td>1.0</td>\n",
       "      <td>2020-03-26</td>\n",
       "      <td>2020-03-27</td>\n",
       "      <td>2020-03-26</td>\n",
       "    </tr>\n",
       "    <tr>\n",
       "      <th>75583</th>\n",
       "      <td>2020-04-19</td>\n",
       "      <td>17</td>\n",
       "      <td>2020-04-12</td>\n",
       "      <td>16</td>\n",
       "      <td>SP</td>\n",
       "      <td>GVE I CAPITAL</td>\n",
       "      <td>1331.0</td>\n",
       "      <td>SAO PAULO</td>\n",
       "      <td>355030</td>\n",
       "      <td>UPA PIRITUBA</td>\n",
       "      <td>...</td>\n",
       "      <td>4.0</td>\n",
       "      <td>2.0</td>\n",
       "      <td>INSTITUTO ADOLFO LUTZ SAO PAULO</td>\n",
       "      <td>2091364.0</td>\n",
       "      <td>5.0</td>\n",
       "      <td>1.0</td>\n",
       "      <td>1.0</td>\n",
       "      <td>2020-05-04</td>\n",
       "      <td>2020-05-07</td>\n",
       "      <td>2020-04-29</td>\n",
       "    </tr>\n",
       "    <tr>\n",
       "      <th>123461</th>\n",
       "      <td>2020-04-28</td>\n",
       "      <td>18</td>\n",
       "      <td>2020-04-27</td>\n",
       "      <td>18</td>\n",
       "      <td>RJ</td>\n",
       "      <td>NaN</td>\n",
       "      <td>NaN</td>\n",
       "      <td>RIO DE JANEIRO</td>\n",
       "      <td>330455</td>\n",
       "      <td>PERINATAL BARRA CASA DE SAUDE LARANJEIRAS</td>\n",
       "      <td>...</td>\n",
       "      <td>5.0</td>\n",
       "      <td>NaN</td>\n",
       "      <td>NaN</td>\n",
       "      <td>NaN</td>\n",
       "      <td>5.0</td>\n",
       "      <td>1.0</td>\n",
       "      <td>NaN</td>\n",
       "      <td>NaN</td>\n",
       "      <td>NaN</td>\n",
       "      <td>2020-05-13</td>\n",
       "    </tr>\n",
       "    <tr>\n",
       "      <th>100110</th>\n",
       "      <td>2020-04-28</td>\n",
       "      <td>18</td>\n",
       "      <td>2020-04-20</td>\n",
       "      <td>17</td>\n",
       "      <td>AM</td>\n",
       "      <td>ENTORNO DE MANAUS E RIO NEGRO</td>\n",
       "      <td>5584.0</td>\n",
       "      <td>MANAUS</td>\n",
       "      <td>130260</td>\n",
       "      <td>HOSPITAL P S DR JOAO LUCIO P MACHADO</td>\n",
       "      <td>...</td>\n",
       "      <td>5.0</td>\n",
       "      <td>NaN</td>\n",
       "      <td>LACEN LABORATORIO CENTRAL DE SAUDE PUBLICA DO ...</td>\n",
       "      <td>2018764.0</td>\n",
       "      <td>5.0</td>\n",
       "      <td>1.0</td>\n",
       "      <td>2.0</td>\n",
       "      <td>2020-04-28</td>\n",
       "      <td>2020-05-04</td>\n",
       "      <td>2020-04-29</td>\n",
       "    </tr>\n",
       "    <tr>\n",
       "      <th>124484</th>\n",
       "      <td>2020-05-01</td>\n",
       "      <td>18</td>\n",
       "      <td>2020-04-28</td>\n",
       "      <td>18</td>\n",
       "      <td>BA</td>\n",
       "      <td>NUCLEO REGIONAL DE SAUDE LESTE</td>\n",
       "      <td>1380.0</td>\n",
       "      <td>SALVADOR</td>\n",
       "      <td>292740</td>\n",
       "      <td>HOSPITAL SAO RAFAEL</td>\n",
       "      <td>...</td>\n",
       "      <td>4.0</td>\n",
       "      <td>NaN</td>\n",
       "      <td>HOSPITAL SAO RAFAEL</td>\n",
       "      <td>3808.0</td>\n",
       "      <td>5.0</td>\n",
       "      <td>1.0</td>\n",
       "      <td>1.0</td>\n",
       "      <td>2020-05-03</td>\n",
       "      <td>2020-05-08</td>\n",
       "      <td>2020-05-01</td>\n",
       "    </tr>\n",
       "    <tr>\n",
       "      <th>63173</th>\n",
       "      <td>2020-04-16</td>\n",
       "      <td>16</td>\n",
       "      <td>2020-04-11</td>\n",
       "      <td>15</td>\n",
       "      <td>SP</td>\n",
       "      <td>GVE I CAPITAL</td>\n",
       "      <td>1331.0</td>\n",
       "      <td>SAO PAULO</td>\n",
       "      <td>355030</td>\n",
       "      <td>HOSPITAL SAO CAMILO IPIRANGA</td>\n",
       "      <td>...</td>\n",
       "      <td>4.0</td>\n",
       "      <td>NaN</td>\n",
       "      <td>HOSPITAL ISRAELITA ALBERT EINSTEIN</td>\n",
       "      <td>2058391.0</td>\n",
       "      <td>5.0</td>\n",
       "      <td>1.0</td>\n",
       "      <td>2.0</td>\n",
       "      <td>2020-05-16</td>\n",
       "      <td>2020-05-18</td>\n",
       "      <td>2020-05-18</td>\n",
       "    </tr>\n",
       "    <tr>\n",
       "      <th>75790</th>\n",
       "      <td>2020-04-27</td>\n",
       "      <td>18</td>\n",
       "      <td>2020-04-13</td>\n",
       "      <td>16</td>\n",
       "      <td>PE</td>\n",
       "      <td>001</td>\n",
       "      <td>1497.0</td>\n",
       "      <td>RECIFE</td>\n",
       "      <td>261160</td>\n",
       "      <td>PROCAPE</td>\n",
       "      <td>...</td>\n",
       "      <td>5.0</td>\n",
       "      <td>NaN</td>\n",
       "      <td>NaN</td>\n",
       "      <td>NaN</td>\n",
       "      <td>5.0</td>\n",
       "      <td>1.0</td>\n",
       "      <td>2.0</td>\n",
       "      <td>2020-04-27</td>\n",
       "      <td>2020-05-16</td>\n",
       "      <td>2020-05-08</td>\n",
       "    </tr>\n",
       "    <tr>\n",
       "      <th>105844</th>\n",
       "      <td>2020-05-01</td>\n",
       "      <td>18</td>\n",
       "      <td>2020-04-25</td>\n",
       "      <td>17</td>\n",
       "      <td>PE</td>\n",
       "      <td>001</td>\n",
       "      <td>1497.0</td>\n",
       "      <td>RECIFE</td>\n",
       "      <td>261160</td>\n",
       "      <td>HOSPITAL GETULIO VARGAS</td>\n",
       "      <td>...</td>\n",
       "      <td>5.0</td>\n",
       "      <td>NaN</td>\n",
       "      <td>LAB CENTRAL DE SAUDE PUB DR MILTON BEZERRA SOBRAL</td>\n",
       "      <td>2712075.0</td>\n",
       "      <td>5.0</td>\n",
       "      <td>1.0</td>\n",
       "      <td>NaN</td>\n",
       "      <td>NaN</td>\n",
       "      <td>NaN</td>\n",
       "      <td>2020-05-13</td>\n",
       "    </tr>\n",
       "  </tbody>\n",
       "</table>\n",
       "<p>8 rows × 71 columns</p>\n",
       "</div>"
      ],
      "text/plain": [
       "        DT_NOTIFIC  SEM_NOT  DT_SIN_PRI  SEM_PRI SG_UF_NOT  \\\n",
       "22904   2020-03-18       12  2020-03-16       12        DF   \n",
       "75583   2020-04-19       17  2020-04-12       16        SP   \n",
       "123461  2020-04-28       18  2020-04-27       18        RJ   \n",
       "100110  2020-04-28       18  2020-04-20       17        AM   \n",
       "124484  2020-05-01       18  2020-04-28       18        BA   \n",
       "63173   2020-04-16       16  2020-04-11       15        SP   \n",
       "75790   2020-04-27       18  2020-04-13       16        PE   \n",
       "105844  2020-05-01       18  2020-04-25       17        PE   \n",
       "\n",
       "                            ID_REGIONA  CO_REGIONA      ID_MUNICIP  \\\n",
       "22904                              NaN         NaN        BRASILIA   \n",
       "75583                    GVE I CAPITAL      1331.0       SAO PAULO   \n",
       "123461                             NaN         NaN  RIO DE JANEIRO   \n",
       "100110   ENTORNO DE MANAUS E RIO NEGRO      5584.0          MANAUS   \n",
       "124484  NUCLEO REGIONAL DE SAUDE LESTE      1380.0        SALVADOR   \n",
       "63173                    GVE I CAPITAL      1331.0       SAO PAULO   \n",
       "75790                              001      1497.0          RECIFE   \n",
       "105844                             001      1497.0          RECIFE   \n",
       "\n",
       "        CO_MUN_NOT                                 ID_UNIDADE  ...  IF_RESUL  \\\n",
       "22904       530010                                        HRL  ...       4.0   \n",
       "75583       355030                               UPA PIRITUBA  ...       4.0   \n",
       "123461      330455  PERINATAL BARRA CASA DE SAUDE LARANJEIRAS  ...       5.0   \n",
       "100110      130260       HOSPITAL P S DR JOAO LUCIO P MACHADO  ...       5.0   \n",
       "124484      292740                        HOSPITAL SAO RAFAEL  ...       4.0   \n",
       "63173       355030               HOSPITAL SAO CAMILO IPIRANGA  ...       4.0   \n",
       "75790       261160                                    PROCAPE  ...       5.0   \n",
       "105844      261160                    HOSPITAL GETULIO VARGAS  ...       5.0   \n",
       "\n",
       "       POS_PCRFLU                                            LAB_PCR  \\\n",
       "22904         2.0                                           LACEN DF   \n",
       "75583         2.0                    INSTITUTO ADOLFO LUTZ SAO PAULO   \n",
       "123461        NaN                                                NaN   \n",
       "100110        NaN  LACEN LABORATORIO CENTRAL DE SAUDE PUBLICA DO ...   \n",
       "124484        NaN                                HOSPITAL SAO RAFAEL   \n",
       "63173         NaN                 HOSPITAL ISRAELITA ALBERT EINSTEIN   \n",
       "75790         NaN                                                NaN   \n",
       "105844        NaN  LAB CENTRAL DE SAUDE PUB DR MILTON BEZERRA SOBRAL   \n",
       "\n",
       "        CO_LAB_PCR  CLASSI_FIN  CRITERIO  EVOLUCAO  DT_EVOLUCA  DT_ENCERRA  \\\n",
       "22904      11371.0         2.0       1.0       1.0  2020-03-26  2020-03-27   \n",
       "75583    2091364.0         5.0       1.0       1.0  2020-05-04  2020-05-07   \n",
       "123461         NaN         5.0       1.0       NaN         NaN         NaN   \n",
       "100110   2018764.0         5.0       1.0       2.0  2020-04-28  2020-05-04   \n",
       "124484      3808.0         5.0       1.0       1.0  2020-05-03  2020-05-08   \n",
       "63173    2058391.0         5.0       1.0       2.0  2020-05-16  2020-05-18   \n",
       "75790          NaN         5.0       1.0       2.0  2020-04-27  2020-05-16   \n",
       "105844   2712075.0         5.0       1.0       NaN         NaN         NaN   \n",
       "\n",
       "         DT_DIGITA  \n",
       "22904   2020-03-26  \n",
       "75583   2020-04-29  \n",
       "123461  2020-05-13  \n",
       "100110  2020-04-29  \n",
       "124484  2020-05-01  \n",
       "63173   2020-05-18  \n",
       "75790   2020-05-08  \n",
       "105844  2020-05-13  \n",
       "\n",
       "[8 rows x 71 columns]"
      ]
     },
     "execution_count": 90,
     "metadata": {},
     "output_type": "execute_result"
    }
   ],
   "source": [
    "df_clean.sample(8)"
   ]
  },
  {
   "cell_type": "code",
   "execution_count": 96,
   "metadata": {},
   "outputs": [],
   "source": [
    "df = df_clean"
   ]
  },
  {
   "cell_type": "code",
   "execution_count": 91,
   "metadata": {},
   "outputs": [],
   "source": [
    "sintomas_cols = ['FEBRE', 'TOSSE', 'GARGANTA', 'DISPNEIA', 'DESC_RESP', 'SATURACAO', 'DIARREIA', 'VOMITO', 'OUTRO_DES']\n",
    "# OUTRO_DES if OUTRO_SIN == 1"
   ]
  },
  {
   "cell_type": "code",
   "execution_count": 105,
   "metadata": {},
   "outputs": [
    {
     "data": {
      "text/plain": [
       "4080"
      ]
     },
     "execution_count": 105,
     "metadata": {},
     "output_type": "execute_result"
    }
   ],
   "source": [
    "fatores_risco_cols = ['PUERPERA', 'CARDIOPATI', 'HEMATOLOGI', 'SIND_DOWN', 'HEPATICA', 'ASMA', 'DIABETES', 'NEUROLOGIC', 'PNEUMOPATI', 'IMUNODEPRE', 'RENAL', 'OBESIDADE', 'MORB_DESC']\n",
    "# MORB_DESC if OUT_MORBI == 1\n",
    "# if OBESIDADE==1 then OBES_IMC is not null\n",
    "df[(df.CARDIOPATI==1) & (df.EVOLUCAO==1)].EVOLUCAO.count()"
   ]
  },
  {
   "cell_type": "code",
   "execution_count": null,
   "metadata": {},
   "outputs": [],
   "source": []
  },
  {
   "cell_type": "code",
   "execution_count": 97,
   "metadata": {
    "scrolled": true
   },
   "outputs": [
    {
     "data": {
      "text/plain": [
       "(43906, 71)"
      ]
     },
     "execution_count": 97,
     "metadata": {},
     "output_type": "execute_result"
    }
   ],
   "source": [
    "df[df.CLASSI_FIN==5].shape"
   ]
  },
  {
   "cell_type": "code",
   "execution_count": 98,
   "metadata": {},
   "outputs": [
    {
     "data": {
      "text/plain": [
       "UTI\n",
       "1.0    13848\n",
       "2.0    22361\n",
       "9.0     1030\n",
       "Name: UTI, dtype: int64"
      ]
     },
     "execution_count": 98,
     "metadata": {},
     "output_type": "execute_result"
    }
   ],
   "source": [
    "## CLASSI_FIN==5 is for COVID only\n",
    "df = df[df_full.CLASSI_FIN==5]\n",
    "df.groupby('UTI').UTI.count()"
   ]
  }
 ],
 "metadata": {
  "kernelspec": {
   "display_name": "Python 3",
   "language": "python",
   "name": "python3"
  },
  "language_info": {
   "codemirror_mode": {
    "name": "ipython",
    "version": 3
   },
   "file_extension": ".py",
   "mimetype": "text/x-python",
   "name": "python",
   "nbconvert_exporter": "python",
   "pygments_lexer": "ipython3",
   "version": "3.6.9"
  }
 },
 "nbformat": 4,
 "nbformat_minor": 4
}
