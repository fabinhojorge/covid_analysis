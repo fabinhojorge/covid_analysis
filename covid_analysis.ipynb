{
 "cells": [
  {
   "cell_type": "markdown",
   "metadata": {},
   "source": [
    "# Análise do covid no Brasil\n",
    "\n",
    "## Introdução\n",
    "\n",
    "Esta é uma análise exploratória inicial dos dados do COVID-19 no Brasil.\n",
    "\n",
    "\n",
    "### Objetivo\n",
    "\n",
    "O principal objetivo é entender a distribuição da população contaminada por COVID-19.\n",
    "\n",
    "\n",
    "### Metodologia\n",
    "\n",
    "Análisar as features a fim de entendermos as distribuições e suas caracteristicas.\n",
    "Algumas hipóteses:\n",
    "- A idade tem impacto n\n",
    "\n",
    "### Resultado Esperado\n",
    "\n",
    "Espera-se verificar se fatores como idade, sexo e fatores de risco contribuem para complicação da doença.\n",
    "\n",
    "\n",
    "## Base de Dados\n",
    "\n",
    "Foi utilizado dados abertos disponíveis em [https://opendatasus.saude.gov.br/dataset/bd-srag-2020](https://opendatasus.saude.gov.br/dataset/bd-srag-2020) com a data de 18/05/2020.\n",
    "\n",
    "Esta base é disponibilizada pelo ***Vigilância de Síndrome Respiratória Aguda Grave (SRAG)***. O SRAG é um programa da Secretaria de Vigilância em Saúde (SVS).\n",
    "\n",
    "O Dicionário com o significado de cada uma das colunas esta localizado [Aqui](https://opendatasus.saude.gov.br/dataset/9bc2013f-f293-4f3e-94e7-fa76204fc035/resource/20e51b77-b129-4fd5-84f6-e9428ab5e286/download/dicionario_de_dados_srag_hospitalizado_atual-sivepgripe.pdf)\n",
    "\n",
    "**Um ponto importante** é que os casos que constam nesta base são os casos mais severos e que necessitaram de atendimento médico. Conforme a recomendação do Ministério da Saúde para a população, os casos com sintomas não tão severos recomendava-se a não ir no pronto atendimento. Ou seja, é importante ter em mente que esses dados não representam a real situação da doença no Brasil, e sim uma amostra."
   ]
  },
  {
   "cell_type": "markdown",
   "metadata": {},
   "source": [
    "## Análise da Base e das Características"
   ]
  },
  {
   "cell_type": "code",
   "execution_count": 1,
   "metadata": {},
   "outputs": [],
   "source": [
    "import pandas as pd\n",
    "import numpy as np\n",
    "import matplotlib.pyplot as plt\n",
    "import seaborn as sns"
   ]
  },
  {
   "cell_type": "code",
   "execution_count": 2,
   "metadata": {},
   "outputs": [],
   "source": [
    "pd.options.display.max_columns = 20\n",
    "sns.set(style=\"whitegrid\")"
   ]
  },
  {
   "cell_type": "code",
   "execution_count": 3,
   "metadata": {},
   "outputs": [],
   "source": [
    "# Nao esquecer de descompactar a base de dados\n",
    "\n",
    "file_name = 'data/INFLUD-16-06-2020-Revisado.csv'\n",
    "\n",
    "# df_full = pd.read_csv('data/INFLUD-08-06-2020.csv', sep=';', engine='python-fwf', encoding='utf8')\n",
    "df_full = pd.read_csv(file_name, sep=';', engine='c', encoding='utf8', error_bad_lines=False, low_memory=False)\n"
   ]
  },
  {
   "cell_type": "code",
   "execution_count": 21,
   "metadata": {
    "scrolled": false
   },
   "outputs": [
    {
     "name": "stdout",
     "output_type": "stream",
     "text": [
      "<class 'pandas.core.frame.DataFrame'>\n",
      "RangeIndex: 291130 entries, 0 to 291129\n",
      "Columns: 134 entries, DT_NOTIFIC to PAC_DSCBO\n",
      "dtypes: float64(76), int64(10), object(48)\n",
      "memory usage: 297.6+ MB\n"
     ]
    }
   ],
   "source": [
    "df_full.info()"
   ]
  },
  {
   "cell_type": "markdown",
   "metadata": {},
   "source": [
    "### Removendo um pouco das colunas\n",
    "A base possui muitas colunas (+130), e ao analisar o Dicionário de dados, notei que muitas delas não serão úteis para análise da população do COVID. Vamos ler o documento de Discionário e fazer uma filtragem em alto nível de quais colunas serão retiradas."
   ]
  },
  {
   "cell_type": "code",
   "execution_count": 5,
   "metadata": {},
   "outputs": [],
   "source": [
    "# cols_to_drop = ['CS_ETINIA', 'ID_PAIS', 'ID_RG_RESI', 'CO_RG_RESI', 'AVE_SUINO', 'NOSOCOMIAL', 'VACINA', 'DT_UT_DOSE', 'MAE_VAC', 'DT_VAC_MAE', 'M_AMAMENTA', 'DT_DOSEUNI', 'DT_1_DOSE', 'DT_2_DOSE', 'ANTIVIRAL', 'TP_ANTIVIR', 'OUT_ANTIV', 'DT_ANTIVIR', 'RAIOX_RES', 'RAIOX_OUT', 'DT_RAIOX', 'AMOSTRA', 'DT_COLETA', 'TP_AMOSTRA', 'OUT_AMOST', 'REQUI_GAL', 'DT_IF', 'POS_IF_FLU', 'TP_FLU_IF', 'POS_IF_OUT', 'IF_VSR', 'IF_PARA1', 'IF_PARA2', 'IF_PARA3', 'IF_ADENO', 'IF_OUTRO', 'DS_IF_OUT', 'LAB_IF', 'CO_LAB_IF', 'PCR_RESUL', 'DT_PCR', 'TP_FLU_PCR', 'PCR_FLUASU', 'FLUASU_OUT', 'PCR_FLUBLI', 'FLUBLI_OUT', 'POS_PCROUT', 'PCR_VSR', 'PCR_PARA1', 'PCR_PARA2', 'PCR_PARA3', 'PCR_PARA4', 'PCR_ADENO', 'PCR_METAP', 'PCR_BOCA', 'PCR_RINO', 'PCR_OUTRO', 'DS_PCR_OUT', 'CLASSI_OUT', 'HISTO_VGM', 'PAIS_VGM', 'CO_PS_VGM', 'LO_PS_VGM', 'DT_VGM', 'DT_RT_VGM', 'PCR_SARS2', 'PAC_COCBO', 'PAC_DSCBO', 'CO_UN_INTE', 'NM_UN_INTE', 'OBSERVA',]\n",
    "cols_to_drop = ['CS_ETINIA', 'ID_PAIS', 'ID_RG_RESI', 'CO_RG_RESI', 'AVE_SUINO', 'NOSOCOMIAL', 'VACINA', 'DT_UT_DOSE', 'MAE_VAC', 'DT_VAC_MAE', 'M_AMAMENTA', 'DT_DOSEUNI', 'DT_1_DOSE', 'DT_2_DOSE', 'ANTIVIRAL', 'TP_ANTIVIR', 'OUT_ANTIV', 'DT_ANTIVIR', 'RAIOX_RES', 'RAIOX_OUT', 'DT_RAIOX', 'AMOSTRA', 'DT_COLETA', 'TP_AMOSTRA', 'OUT_AMOST', 'DT_IF', 'POS_IF_FLU', 'TP_FLU_IF', 'POS_IF_OUT', 'IF_VSR', 'IF_PARA1', 'IF_PARA2', 'IF_PARA3', 'IF_ADENO', 'IF_OUTRO', 'DS_IF_OUT', 'PCR_RESUL', 'DT_PCR', 'TP_FLU_PCR', 'PCR_FLUASU', 'FLUASU_OUT', 'PCR_FLUBLI', 'FLUBLI_OUT', 'POS_PCROUT', 'PCR_VSR', 'PCR_PARA1', 'PCR_PARA2', 'PCR_PARA3', 'PCR_PARA4', 'PCR_ADENO', 'PCR_METAP', 'PCR_BOCA', 'PCR_RINO', 'PCR_OUTRO', 'DS_PCR_OUT', 'CLASSI_OUT', 'HISTO_VGM', 'PAIS_VGM', 'CO_PS_VGM', 'LO_PS_VGM', 'DT_VGM', 'DT_RT_VGM', 'PCR_SARS2', 'PAC_COCBO', 'PAC_DSCBO',]\n",
    "df_clean = df_full.drop(cols_to_drop, axis=1)"
   ]
  },
  {
   "cell_type": "code",
   "execution_count": 6,
   "metadata": {},
   "outputs": [
    {
     "name": "stdout",
     "output_type": "stream",
     "text": [
      "<class 'pandas.core.frame.DataFrame'>\n",
      "RangeIndex: 291130 entries, 0 to 291129\n",
      "Columns: 69 entries, DT_NOTIFIC to DT_DIGITA\n",
      "dtypes: float64(39), int64(9), object(21)\n",
      "memory usage: 153.3+ MB\n"
     ]
    }
   ],
   "source": [
    "df_clean.info(verbose=False)"
   ]
  },
  {
   "cell_type": "code",
   "execution_count": 7,
   "metadata": {},
   "outputs": [
    {
     "data": {
      "text/html": [
       "<div>\n",
       "<style scoped>\n",
       "    .dataframe tbody tr th:only-of-type {\n",
       "        vertical-align: middle;\n",
       "    }\n",
       "\n",
       "    .dataframe tbody tr th {\n",
       "        vertical-align: top;\n",
       "    }\n",
       "\n",
       "    .dataframe thead th {\n",
       "        text-align: right;\n",
       "    }\n",
       "</style>\n",
       "<table border=\"1\" class=\"dataframe\">\n",
       "  <thead>\n",
       "    <tr style=\"text-align: right;\">\n",
       "      <th></th>\n",
       "      <th>DT_NOTIFIC</th>\n",
       "      <th>SEM_NOT</th>\n",
       "      <th>DT_SIN_PRI</th>\n",
       "      <th>SEM_PRI</th>\n",
       "      <th>SG_UF_NOT</th>\n",
       "      <th>ID_REGIONA</th>\n",
       "      <th>CO_REGIONA</th>\n",
       "      <th>ID_MUNICIP</th>\n",
       "      <th>CO_MUN_NOT</th>\n",
       "      <th>ID_UNIDADE</th>\n",
       "      <th>...</th>\n",
       "      <th>DT_SAIDUTI</th>\n",
       "      <th>SUPORT_VEN</th>\n",
       "      <th>IF_RESUL</th>\n",
       "      <th>POS_PCRFLU</th>\n",
       "      <th>CLASSI_FIN</th>\n",
       "      <th>CRITERIO</th>\n",
       "      <th>EVOLUCAO</th>\n",
       "      <th>DT_EVOLUCA</th>\n",
       "      <th>DT_ENCERRA</th>\n",
       "      <th>DT_DIGITA</th>\n",
       "    </tr>\n",
       "  </thead>\n",
       "  <tbody>\n",
       "    <tr>\n",
       "      <th>88653</th>\n",
       "      <td>30/04/2020</td>\n",
       "      <td>18</td>\n",
       "      <td>04/04/2020</td>\n",
       "      <td>14</td>\n",
       "      <td>SP</td>\n",
       "      <td>GVE I CAPITAL</td>\n",
       "      <td>1331.0</td>\n",
       "      <td>SAO PAULO</td>\n",
       "      <td>355030</td>\n",
       "      <td>HOSPITAL MUNICIPAL BELA VISTA</td>\n",
       "      <td>...</td>\n",
       "      <td>00000000</td>\n",
       "      <td>2.0</td>\n",
       "      <td>4.0</td>\n",
       "      <td>2.0</td>\n",
       "      <td>5.0</td>\n",
       "      <td>1.0</td>\n",
       "      <td>1.0</td>\n",
       "      <td>05/05/2020</td>\n",
       "      <td>07/05/2020</td>\n",
       "      <td>30/04/2020</td>\n",
       "    </tr>\n",
       "    <tr>\n",
       "      <th>243535</th>\n",
       "      <td>07/06/2020</td>\n",
       "      <td>24</td>\n",
       "      <td>04/06/2020</td>\n",
       "      <td>23</td>\n",
       "      <td>RS</td>\n",
       "      <td>005 CRS</td>\n",
       "      <td>1608.0</td>\n",
       "      <td>CAXIAS DO SUL</td>\n",
       "      <td>430510</td>\n",
       "      <td>HOSPITAL UNIMED CAXIAS DO SUL</td>\n",
       "      <td>...</td>\n",
       "      <td>00000000</td>\n",
       "      <td>2.0</td>\n",
       "      <td>5.0</td>\n",
       "      <td>9.0</td>\n",
       "      <td>5.0</td>\n",
       "      <td>1.0</td>\n",
       "      <td>2.0</td>\n",
       "      <td>12/06/2020</td>\n",
       "      <td>13/06/2020</td>\n",
       "      <td>08/06/2020</td>\n",
       "    </tr>\n",
       "    <tr>\n",
       "      <th>36065</th>\n",
       "      <td>06/04/2020</td>\n",
       "      <td>15</td>\n",
       "      <td>02/04/2020</td>\n",
       "      <td>14</td>\n",
       "      <td>SP</td>\n",
       "      <td>GVE XVII CAMPINAS</td>\n",
       "      <td>1342.0</td>\n",
       "      <td>JUNDIAI</td>\n",
       "      <td>352590</td>\n",
       "      <td>HCSVP HOSPITAL SAO VICENTE HOSPITAL DE CAMPANH...</td>\n",
       "      <td>...</td>\n",
       "      <td>00000000</td>\n",
       "      <td>2.0</td>\n",
       "      <td>5.0</td>\n",
       "      <td>NaN</td>\n",
       "      <td>4.0</td>\n",
       "      <td>1.0</td>\n",
       "      <td>1.0</td>\n",
       "      <td>09/04/2020</td>\n",
       "      <td>24/04/2020</td>\n",
       "      <td>08/04/2020</td>\n",
       "    </tr>\n",
       "    <tr>\n",
       "      <th>39317</th>\n",
       "      <td>10/04/2020</td>\n",
       "      <td>15</td>\n",
       "      <td>26/03/2020</td>\n",
       "      <td>13</td>\n",
       "      <td>SP</td>\n",
       "      <td>GVE I CAPITAL</td>\n",
       "      <td>1331.0</td>\n",
       "      <td>SAO PAULO</td>\n",
       "      <td>355030</td>\n",
       "      <td>HOSPITAL LEFORTE LIBERDADE</td>\n",
       "      <td>...</td>\n",
       "      <td>00000000</td>\n",
       "      <td>3.0</td>\n",
       "      <td>4.0</td>\n",
       "      <td>NaN</td>\n",
       "      <td>4.0</td>\n",
       "      <td>1.0</td>\n",
       "      <td>1.0</td>\n",
       "      <td>17/04/2020</td>\n",
       "      <td>17/04/2020</td>\n",
       "      <td>10/04/2020</td>\n",
       "    </tr>\n",
       "  </tbody>\n",
       "</table>\n",
       "<p>4 rows × 69 columns</p>\n",
       "</div>"
      ],
      "text/plain": [
       "        DT_NOTIFIC  SEM_NOT  DT_SIN_PRI  SEM_PRI SG_UF_NOT         ID_REGIONA  \\\n",
       "88653   30/04/2020       18  04/04/2020       14        SP      GVE I CAPITAL   \n",
       "243535  07/06/2020       24  04/06/2020       23        RS            005 CRS   \n",
       "36065   06/04/2020       15  02/04/2020       14        SP  GVE XVII CAMPINAS   \n",
       "39317   10/04/2020       15  26/03/2020       13        SP      GVE I CAPITAL   \n",
       "\n",
       "        CO_REGIONA     ID_MUNICIP  CO_MUN_NOT  \\\n",
       "88653       1331.0      SAO PAULO      355030   \n",
       "243535      1608.0  CAXIAS DO SUL      430510   \n",
       "36065       1342.0        JUNDIAI      352590   \n",
       "39317       1331.0      SAO PAULO      355030   \n",
       "\n",
       "                                               ID_UNIDADE  ...  DT_SAIDUTI  \\\n",
       "88653                       HOSPITAL MUNICIPAL BELA VISTA  ...    00000000   \n",
       "243535                      HOSPITAL UNIMED CAXIAS DO SUL  ...    00000000   \n",
       "36065   HCSVP HOSPITAL SAO VICENTE HOSPITAL DE CAMPANH...  ...    00000000   \n",
       "39317                          HOSPITAL LEFORTE LIBERDADE  ...    00000000   \n",
       "\n",
       "       SUPORT_VEN IF_RESUL  POS_PCRFLU  CLASSI_FIN  CRITERIO  EVOLUCAO  \\\n",
       "88653         2.0      4.0         2.0         5.0       1.0       1.0   \n",
       "243535        2.0      5.0         9.0         5.0       1.0       2.0   \n",
       "36065         2.0      5.0         NaN         4.0       1.0       1.0   \n",
       "39317         3.0      4.0         NaN         4.0       1.0       1.0   \n",
       "\n",
       "        DT_EVOLUCA  DT_ENCERRA   DT_DIGITA  \n",
       "88653   05/05/2020  07/05/2020  30/04/2020  \n",
       "243535  12/06/2020  13/06/2020  08/06/2020  \n",
       "36065   09/04/2020  24/04/2020  08/04/2020  \n",
       "39317   17/04/2020  17/04/2020  10/04/2020  \n",
       "\n",
       "[4 rows x 69 columns]"
      ]
     },
     "execution_count": 7,
     "metadata": {},
     "output_type": "execute_result"
    }
   ],
   "source": [
    "df_clean.sample(4)"
   ]
  },
  {
   "cell_type": "code",
   "execution_count": 8,
   "metadata": {},
   "outputs": [],
   "source": [
    "291df = df_clean\n",
    "\n",
    "# Mantendo apenas os casos de COVID, embora suspeito que tenha muitos casos de CLASSI_FIN==4 que são COVID.\n",
    "df = df[df.CLASSI_FIN==5]"
   ]
  },
  {
   "cell_type": "code",
   "execution_count": 9,
   "metadata": {},
   "outputs": [
    {
     "name": "stdout",
     "output_type": "stream",
     "text": [
      "<class 'pandas.core.frame.DataFrame'>\n",
      "Int64Index: 117432 entries, 3413 to 291128\n",
      "Columns: 69 entries, DT_NOTIFIC to DT_DIGITA\n",
      "dtypes: float64(39), int64(9), object(21)\n",
      "memory usage: 62.7+ MB\n"
     ]
    }
   ],
   "source": [
    "df.info(verbose=False)"
   ]
  },
  {
   "cell_type": "markdown",
   "metadata": {},
   "source": [
    "### Entendendo um pouco das características\n",
    "\n",
    "Ao analisar o Dicionario de dados, notei algumas colunas importantes para análise, então as separei em 5 grupos:\n",
    "* Sintomas\n",
    "* Fatores de Risco\n",
    "* Localização\n",
    "* Informações Pessoais\n",
    "* Dados da Internação"
   ]
  },
  {
   "cell_type": "code",
   "execution_count": 10,
   "metadata": {},
   "outputs": [
    {
     "data": {
      "text/html": [
       "<div>\n",
       "<style scoped>\n",
       "    .dataframe tbody tr th:only-of-type {\n",
       "        vertical-align: middle;\n",
       "    }\n",
       "\n",
       "    .dataframe tbody tr th {\n",
       "        vertical-align: top;\n",
       "    }\n",
       "\n",
       "    .dataframe thead th {\n",
       "        text-align: right;\n",
       "    }\n",
       "</style>\n",
       "<table border=\"1\" class=\"dataframe\">\n",
       "  <thead>\n",
       "    <tr style=\"text-align: right;\">\n",
       "      <th></th>\n",
       "      <th>FEBRE</th>\n",
       "      <th>TOSSE</th>\n",
       "      <th>GARGANTA</th>\n",
       "      <th>DISPNEIA</th>\n",
       "      <th>DESC_RESP</th>\n",
       "      <th>SATURACAO</th>\n",
       "      <th>DIARREIA</th>\n",
       "      <th>VOMITO</th>\n",
       "      <th>OUTRO_DES</th>\n",
       "    </tr>\n",
       "  </thead>\n",
       "  <tbody>\n",
       "    <tr>\n",
       "      <th>110969</th>\n",
       "      <td>1.0</td>\n",
       "      <td>1.0</td>\n",
       "      <td>2.0</td>\n",
       "      <td>2.0</td>\n",
       "      <td>2.0</td>\n",
       "      <td>2.0</td>\n",
       "      <td>2.0</td>\n",
       "      <td>2.0</td>\n",
       "      <td>ANOSMIA,AGEUSIA</td>\n",
       "    </tr>\n",
       "    <tr>\n",
       "      <th>144533</th>\n",
       "      <td>1.0</td>\n",
       "      <td>1.0</td>\n",
       "      <td>2.0</td>\n",
       "      <td>1.0</td>\n",
       "      <td>1.0</td>\n",
       "      <td>1.0</td>\n",
       "      <td>2.0</td>\n",
       "      <td>2.0</td>\n",
       "      <td>ASTENIA</td>\n",
       "    </tr>\n",
       "    <tr>\n",
       "      <th>105147</th>\n",
       "      <td>2.0</td>\n",
       "      <td>2.0</td>\n",
       "      <td>2.0</td>\n",
       "      <td>2.0</td>\n",
       "      <td>2.0</td>\n",
       "      <td>1.0</td>\n",
       "      <td>2.0</td>\n",
       "      <td>2.0</td>\n",
       "      <td>NaN</td>\n",
       "    </tr>\n",
       "    <tr>\n",
       "      <th>247606</th>\n",
       "      <td>NaN</td>\n",
       "      <td>NaN</td>\n",
       "      <td>NaN</td>\n",
       "      <td>NaN</td>\n",
       "      <td>1.0</td>\n",
       "      <td>1.0</td>\n",
       "      <td>NaN</td>\n",
       "      <td>NaN</td>\n",
       "      <td>NaN</td>\n",
       "    </tr>\n",
       "  </tbody>\n",
       "</table>\n",
       "</div>"
      ],
      "text/plain": [
       "        FEBRE  TOSSE  GARGANTA  DISPNEIA  DESC_RESP  SATURACAO  DIARREIA  \\\n",
       "110969    1.0    1.0       2.0       2.0        2.0        2.0       2.0   \n",
       "144533    1.0    1.0       2.0       1.0        1.0        1.0       2.0   \n",
       "105147    2.0    2.0       2.0       2.0        2.0        1.0       2.0   \n",
       "247606    NaN    NaN       NaN       NaN        1.0        1.0       NaN   \n",
       "\n",
       "        VOMITO        OUTRO_DES  \n",
       "110969     2.0  ANOSMIA,AGEUSIA  \n",
       "144533     2.0          ASTENIA  \n",
       "105147     2.0              NaN  \n",
       "247606     NaN              NaN  "
      ]
     },
     "execution_count": 10,
     "metadata": {},
     "output_type": "execute_result"
    }
   ],
   "source": [
    "sintomas_cols = ['FEBRE', 'TOSSE', 'GARGANTA', 'DISPNEIA', 'DESC_RESP', 'SATURACAO', 'DIARREIA', 'VOMITO', 'OUTRO_DES']\n",
    "# OUTRO_DES if OUTRO_SIN == 1\n",
    "df[sintomas_cols].sample(4)"
   ]
  },
  {
   "cell_type": "code",
   "execution_count": 11,
   "metadata": {},
   "outputs": [
    {
     "data": {
      "text/html": [
       "<div>\n",
       "<style scoped>\n",
       "    .dataframe tbody tr th:only-of-type {\n",
       "        vertical-align: middle;\n",
       "    }\n",
       "\n",
       "    .dataframe tbody tr th {\n",
       "        vertical-align: top;\n",
       "    }\n",
       "\n",
       "    .dataframe thead th {\n",
       "        text-align: right;\n",
       "    }\n",
       "</style>\n",
       "<table border=\"1\" class=\"dataframe\">\n",
       "  <thead>\n",
       "    <tr style=\"text-align: right;\">\n",
       "      <th></th>\n",
       "      <th>PUERPERA</th>\n",
       "      <th>CARDIOPATI</th>\n",
       "      <th>HEMATOLOGI</th>\n",
       "      <th>SIND_DOWN</th>\n",
       "      <th>HEPATICA</th>\n",
       "      <th>ASMA</th>\n",
       "      <th>DIABETES</th>\n",
       "      <th>NEUROLOGIC</th>\n",
       "      <th>PNEUMOPATI</th>\n",
       "      <th>IMUNODEPRE</th>\n",
       "      <th>RENAL</th>\n",
       "      <th>OBESIDADE</th>\n",
       "      <th>MORB_DESC</th>\n",
       "    </tr>\n",
       "  </thead>\n",
       "  <tbody>\n",
       "    <tr>\n",
       "      <th>206533</th>\n",
       "      <td>NaN</td>\n",
       "      <td>1.0</td>\n",
       "      <td>NaN</td>\n",
       "      <td>NaN</td>\n",
       "      <td>NaN</td>\n",
       "      <td>1.0</td>\n",
       "      <td>NaN</td>\n",
       "      <td>NaN</td>\n",
       "      <td>NaN</td>\n",
       "      <td>NaN</td>\n",
       "      <td>NaN</td>\n",
       "      <td>NaN</td>\n",
       "      <td>DEPRESSAO</td>\n",
       "    </tr>\n",
       "    <tr>\n",
       "      <th>215184</th>\n",
       "      <td>NaN</td>\n",
       "      <td>NaN</td>\n",
       "      <td>NaN</td>\n",
       "      <td>NaN</td>\n",
       "      <td>NaN</td>\n",
       "      <td>NaN</td>\n",
       "      <td>NaN</td>\n",
       "      <td>NaN</td>\n",
       "      <td>NaN</td>\n",
       "      <td>NaN</td>\n",
       "      <td>NaN</td>\n",
       "      <td>NaN</td>\n",
       "      <td>NaN</td>\n",
       "    </tr>\n",
       "    <tr>\n",
       "      <th>172895</th>\n",
       "      <td>2.0</td>\n",
       "      <td>1.0</td>\n",
       "      <td>2.0</td>\n",
       "      <td>2.0</td>\n",
       "      <td>2.0</td>\n",
       "      <td>1.0</td>\n",
       "      <td>2.0</td>\n",
       "      <td>1.0</td>\n",
       "      <td>2.0</td>\n",
       "      <td>2.0</td>\n",
       "      <td>1.0</td>\n",
       "      <td>2.0</td>\n",
       "      <td>NaN</td>\n",
       "    </tr>\n",
       "    <tr>\n",
       "      <th>132779</th>\n",
       "      <td>NaN</td>\n",
       "      <td>NaN</td>\n",
       "      <td>NaN</td>\n",
       "      <td>NaN</td>\n",
       "      <td>NaN</td>\n",
       "      <td>NaN</td>\n",
       "      <td>NaN</td>\n",
       "      <td>NaN</td>\n",
       "      <td>NaN</td>\n",
       "      <td>NaN</td>\n",
       "      <td>NaN</td>\n",
       "      <td>NaN</td>\n",
       "      <td>HAS</td>\n",
       "    </tr>\n",
       "  </tbody>\n",
       "</table>\n",
       "</div>"
      ],
      "text/plain": [
       "        PUERPERA  CARDIOPATI  HEMATOLOGI  SIND_DOWN  HEPATICA  ASMA  DIABETES  \\\n",
       "206533       NaN         1.0         NaN        NaN       NaN   1.0       NaN   \n",
       "215184       NaN         NaN         NaN        NaN       NaN   NaN       NaN   \n",
       "172895       2.0         1.0         2.0        2.0       2.0   1.0       2.0   \n",
       "132779       NaN         NaN         NaN        NaN       NaN   NaN       NaN   \n",
       "\n",
       "        NEUROLOGIC  PNEUMOPATI  IMUNODEPRE  RENAL  OBESIDADE  MORB_DESC  \n",
       "206533         NaN         NaN         NaN    NaN        NaN  DEPRESSAO  \n",
       "215184         NaN         NaN         NaN    NaN        NaN        NaN  \n",
       "172895         1.0         2.0         2.0    1.0        2.0        NaN  \n",
       "132779         NaN         NaN         NaN    NaN        NaN        HAS  "
      ]
     },
     "execution_count": 11,
     "metadata": {},
     "output_type": "execute_result"
    }
   ],
   "source": [
    "fatores_risco_cols = ['PUERPERA', 'CARDIOPATI', 'HEMATOLOGI', 'SIND_DOWN', 'HEPATICA', 'ASMA', 'DIABETES', 'NEUROLOGIC', 'PNEUMOPATI', 'IMUNODEPRE', 'RENAL', 'OBESIDADE', 'MORB_DESC']\n",
    "# MORB_DESC if OUT_MORBI == 1\n",
    "# if OBESIDADE==1 then OBES_IMC is not null\n",
    "df[fatores_risco_cols].sample(4)"
   ]
  },
  {
   "cell_type": "code",
   "execution_count": 12,
   "metadata": {},
   "outputs": [
    {
     "data": {
      "text/html": [
       "<div>\n",
       "<style scoped>\n",
       "    .dataframe tbody tr th:only-of-type {\n",
       "        vertical-align: middle;\n",
       "    }\n",
       "\n",
       "    .dataframe tbody tr th {\n",
       "        vertical-align: top;\n",
       "    }\n",
       "\n",
       "    .dataframe thead th {\n",
       "        text-align: right;\n",
       "    }\n",
       "</style>\n",
       "<table border=\"1\" class=\"dataframe\">\n",
       "  <thead>\n",
       "    <tr style=\"text-align: right;\">\n",
       "      <th></th>\n",
       "      <th>SG_UF_NOT</th>\n",
       "      <th>ID_MUNICIP</th>\n",
       "      <th>ID_UNIDADE</th>\n",
       "      <th>CO_PAIS</th>\n",
       "      <th>SG_UF</th>\n",
       "      <th>ID_MN_RESI</th>\n",
       "      <th>CS_ZONA</th>\n",
       "      <th>ID_MN_INTE</th>\n",
       "    </tr>\n",
       "  </thead>\n",
       "  <tbody>\n",
       "    <tr>\n",
       "      <th>59188</th>\n",
       "      <td>SP</td>\n",
       "      <td>OSASCO</td>\n",
       "      <td>PRONTO SOCORRO DR ANTONIO FLAVIO FRANCA</td>\n",
       "      <td>1</td>\n",
       "      <td>SP</td>\n",
       "      <td>OSASCO</td>\n",
       "      <td>1.0</td>\n",
       "      <td>OSASCO</td>\n",
       "    </tr>\n",
       "    <tr>\n",
       "      <th>270997</th>\n",
       "      <td>PE</td>\n",
       "      <td>RECIFE</td>\n",
       "      <td>REAL HOSPITAL PORTUGUES</td>\n",
       "      <td>1</td>\n",
       "      <td>PE</td>\n",
       "      <td>CABO DE SANTO AGOSTINHO</td>\n",
       "      <td>1.0</td>\n",
       "      <td>RECIFE</td>\n",
       "    </tr>\n",
       "    <tr>\n",
       "      <th>134928</th>\n",
       "      <td>SP</td>\n",
       "      <td>SAO PAULO</td>\n",
       "      <td>HC DA FMUSP HOSPITAL DAS CLINICAS SAO PAULO</td>\n",
       "      <td>1</td>\n",
       "      <td>SP</td>\n",
       "      <td>SAO PAULO</td>\n",
       "      <td>1.0</td>\n",
       "      <td>SAO PAULO</td>\n",
       "    </tr>\n",
       "    <tr>\n",
       "      <th>219254</th>\n",
       "      <td>RJ</td>\n",
       "      <td>RIO DE JANEIRO</td>\n",
       "      <td>HOSPITAL RIOMAR</td>\n",
       "      <td>1</td>\n",
       "      <td>RJ</td>\n",
       "      <td>RIO DE JANEIRO</td>\n",
       "      <td>1.0</td>\n",
       "      <td>RIO DE JANEIRO</td>\n",
       "    </tr>\n",
       "  </tbody>\n",
       "</table>\n",
       "</div>"
      ],
      "text/plain": [
       "       SG_UF_NOT      ID_MUNICIP                                   ID_UNIDADE  \\\n",
       "59188         SP          OSASCO      PRONTO SOCORRO DR ANTONIO FLAVIO FRANCA   \n",
       "270997        PE          RECIFE                      REAL HOSPITAL PORTUGUES   \n",
       "134928        SP       SAO PAULO  HC DA FMUSP HOSPITAL DAS CLINICAS SAO PAULO   \n",
       "219254        RJ  RIO DE JANEIRO                              HOSPITAL RIOMAR   \n",
       "\n",
       "        CO_PAIS SG_UF               ID_MN_RESI  CS_ZONA      ID_MN_INTE  \n",
       "59188         1    SP                   OSASCO      1.0          OSASCO  \n",
       "270997        1    PE  CABO DE SANTO AGOSTINHO      1.0          RECIFE  \n",
       "134928        1    SP                SAO PAULO      1.0       SAO PAULO  \n",
       "219254        1    RJ           RIO DE JANEIRO      1.0  RIO DE JANEIRO  "
      ]
     },
     "execution_count": 12,
     "metadata": {},
     "output_type": "execute_result"
    }
   ],
   "source": [
    "localizacao_cols = ['SG_UF_NOT', 'ID_MUNICIP', 'ID_UNIDADE', 'CO_PAIS', 'SG_UF', 'ID_MN_RESI', 'CS_ZONA', 'ID_MN_INTE',]\n",
    "df[localizacao_cols].sample(4)"
   ]
  },
  {
   "cell_type": "code",
   "execution_count": 13,
   "metadata": {},
   "outputs": [
    {
     "data": {
      "text/html": [
       "<div>\n",
       "<style scoped>\n",
       "    .dataframe tbody tr th:only-of-type {\n",
       "        vertical-align: middle;\n",
       "    }\n",
       "\n",
       "    .dataframe tbody tr th {\n",
       "        vertical-align: top;\n",
       "    }\n",
       "\n",
       "    .dataframe thead th {\n",
       "        text-align: right;\n",
       "    }\n",
       "</style>\n",
       "<table border=\"1\" class=\"dataframe\">\n",
       "  <thead>\n",
       "    <tr style=\"text-align: right;\">\n",
       "      <th></th>\n",
       "      <th>CS_SEXO</th>\n",
       "      <th>DT_NASC</th>\n",
       "      <th>NU_IDADE_N</th>\n",
       "      <th>TP_IDADE</th>\n",
       "      <th>CS_GESTANT</th>\n",
       "      <th>CS_RACA</th>\n",
       "      <th>CS_ESCOL_N</th>\n",
       "    </tr>\n",
       "  </thead>\n",
       "  <tbody>\n",
       "    <tr>\n",
       "      <th>160206</th>\n",
       "      <td>F</td>\n",
       "      <td>13/06/1973</td>\n",
       "      <td>46</td>\n",
       "      <td>3</td>\n",
       "      <td>5</td>\n",
       "      <td>NaN</td>\n",
       "      <td>NaN</td>\n",
       "    </tr>\n",
       "    <tr>\n",
       "      <th>53843</th>\n",
       "      <td>F</td>\n",
       "      <td>04/12/1953</td>\n",
       "      <td>66</td>\n",
       "      <td>3</td>\n",
       "      <td>9</td>\n",
       "      <td>NaN</td>\n",
       "      <td>NaN</td>\n",
       "    </tr>\n",
       "    <tr>\n",
       "      <th>258867</th>\n",
       "      <td>M</td>\n",
       "      <td>16/01/1937</td>\n",
       "      <td>83</td>\n",
       "      <td>3</td>\n",
       "      <td>6</td>\n",
       "      <td>2.0</td>\n",
       "      <td>1.0</td>\n",
       "    </tr>\n",
       "    <tr>\n",
       "      <th>220722</th>\n",
       "      <td>M</td>\n",
       "      <td>26/06/1950</td>\n",
       "      <td>69</td>\n",
       "      <td>3</td>\n",
       "      <td>6</td>\n",
       "      <td>1.0</td>\n",
       "      <td>NaN</td>\n",
       "    </tr>\n",
       "  </tbody>\n",
       "</table>\n",
       "</div>"
      ],
      "text/plain": [
       "       CS_SEXO     DT_NASC  NU_IDADE_N  TP_IDADE  CS_GESTANT  CS_RACA  \\\n",
       "160206       F  13/06/1973          46         3           5      NaN   \n",
       "53843        F  04/12/1953          66         3           9      NaN   \n",
       "258867       M  16/01/1937          83         3           6      2.0   \n",
       "220722       M  26/06/1950          69         3           6      1.0   \n",
       "\n",
       "        CS_ESCOL_N  \n",
       "160206         NaN  \n",
       "53843          NaN  \n",
       "258867         1.0  \n",
       "220722         NaN  "
      ]
     },
     "execution_count": 13,
     "metadata": {},
     "output_type": "execute_result"
    }
   ],
   "source": [
    "info_p_cols = ['CS_SEXO', 'DT_NASC', 'NU_IDADE_N', 'TP_IDADE', 'CS_GESTANT', 'CS_RACA', 'CS_ESCOL_N']\n",
    "df[info_p_cols].sample(4)"
   ]
  },
  {
   "cell_type": "code",
   "execution_count": 14,
   "metadata": {},
   "outputs": [
    {
     "data": {
      "text/html": [
       "<div>\n",
       "<style scoped>\n",
       "    .dataframe tbody tr th:only-of-type {\n",
       "        vertical-align: middle;\n",
       "    }\n",
       "\n",
       "    .dataframe tbody tr th {\n",
       "        vertical-align: top;\n",
       "    }\n",
       "\n",
       "    .dataframe thead th {\n",
       "        text-align: right;\n",
       "    }\n",
       "</style>\n",
       "<table border=\"1\" class=\"dataframe\">\n",
       "  <thead>\n",
       "    <tr style=\"text-align: right;\">\n",
       "      <th></th>\n",
       "      <th>DT_NOTIFIC</th>\n",
       "      <th>DT_SIN_PRI</th>\n",
       "      <th>DT_INTERNA</th>\n",
       "      <th>UTI</th>\n",
       "      <th>DT_ENTUTI</th>\n",
       "      <th>DT_SAIDUTI</th>\n",
       "      <th>SUPORT_VEN</th>\n",
       "      <th>IF_RESUL</th>\n",
       "      <th>POS_PCRFLU</th>\n",
       "      <th>CLASSI_FIN</th>\n",
       "      <th>CRITERIO</th>\n",
       "      <th>EVOLUCAO</th>\n",
       "      <th>DT_EVOLUCA</th>\n",
       "      <th>DT_ENCERRA</th>\n",
       "      <th>DT_DIGITA</th>\n",
       "    </tr>\n",
       "  </thead>\n",
       "  <tbody>\n",
       "    <tr>\n",
       "      <th>44012</th>\n",
       "      <td>13/04/2020</td>\n",
       "      <td>06/04/2020</td>\n",
       "      <td>13/04/2020</td>\n",
       "      <td>2.0</td>\n",
       "      <td>00000000</td>\n",
       "      <td>00000000</td>\n",
       "      <td>2.0</td>\n",
       "      <td>4.0</td>\n",
       "      <td>2.0</td>\n",
       "      <td>5.0</td>\n",
       "      <td>1.0</td>\n",
       "      <td>1.0</td>\n",
       "      <td>19/04/2020</td>\n",
       "      <td>11/06/2020</td>\n",
       "      <td>13/04/2020</td>\n",
       "    </tr>\n",
       "    <tr>\n",
       "      <th>182492</th>\n",
       "      <td>12/05/2020</td>\n",
       "      <td>10/05/2020</td>\n",
       "      <td>11/05/2020</td>\n",
       "      <td>2.0</td>\n",
       "      <td>00000000</td>\n",
       "      <td>00000000</td>\n",
       "      <td>2.0</td>\n",
       "      <td>4.0</td>\n",
       "      <td>2.0</td>\n",
       "      <td>5.0</td>\n",
       "      <td>1.0</td>\n",
       "      <td>2.0</td>\n",
       "      <td>13/05/2020</td>\n",
       "      <td>22/05/2020</td>\n",
       "      <td>26/05/2020</td>\n",
       "    </tr>\n",
       "    <tr>\n",
       "      <th>60366</th>\n",
       "      <td>20/04/2020</td>\n",
       "      <td>17/04/2020</td>\n",
       "      <td>20/04/2020</td>\n",
       "      <td>1.0</td>\n",
       "      <td>20/04/2020</td>\n",
       "      <td>00000000</td>\n",
       "      <td>2.0</td>\n",
       "      <td>5.0</td>\n",
       "      <td>2.0</td>\n",
       "      <td>5.0</td>\n",
       "      <td>1.0</td>\n",
       "      <td>1.0</td>\n",
       "      <td>09/05/2020</td>\n",
       "      <td>26/05/2020</td>\n",
       "      <td>22/04/2020</td>\n",
       "    </tr>\n",
       "    <tr>\n",
       "      <th>153156</th>\n",
       "      <td>19/05/2020</td>\n",
       "      <td>14/05/2020</td>\n",
       "      <td>18/05/2020</td>\n",
       "      <td>2.0</td>\n",
       "      <td>00000000</td>\n",
       "      <td>00000000</td>\n",
       "      <td>2.0</td>\n",
       "      <td>5.0</td>\n",
       "      <td>NaN</td>\n",
       "      <td>5.0</td>\n",
       "      <td>1.0</td>\n",
       "      <td>NaN</td>\n",
       "      <td>00000000</td>\n",
       "      <td>00000000</td>\n",
       "      <td>19/05/2020</td>\n",
       "    </tr>\n",
       "  </tbody>\n",
       "</table>\n",
       "</div>"
      ],
      "text/plain": [
       "        DT_NOTIFIC  DT_SIN_PRI  DT_INTERNA  UTI   DT_ENTUTI DT_SAIDUTI  \\\n",
       "44012   13/04/2020  06/04/2020  13/04/2020  2.0    00000000   00000000   \n",
       "182492  12/05/2020  10/05/2020  11/05/2020  2.0    00000000   00000000   \n",
       "60366   20/04/2020  17/04/2020  20/04/2020  1.0  20/04/2020   00000000   \n",
       "153156  19/05/2020  14/05/2020  18/05/2020  2.0    00000000   00000000   \n",
       "\n",
       "        SUPORT_VEN  IF_RESUL  POS_PCRFLU  CLASSI_FIN  CRITERIO  EVOLUCAO  \\\n",
       "44012          2.0       4.0         2.0         5.0       1.0       1.0   \n",
       "182492         2.0       4.0         2.0         5.0       1.0       2.0   \n",
       "60366          2.0       5.0         2.0         5.0       1.0       1.0   \n",
       "153156         2.0       5.0         NaN         5.0       1.0       NaN   \n",
       "\n",
       "        DT_EVOLUCA  DT_ENCERRA   DT_DIGITA  \n",
       "44012   19/04/2020  11/06/2020  13/04/2020  \n",
       "182492  13/05/2020  22/05/2020  26/05/2020  \n",
       "60366   09/05/2020  26/05/2020  22/04/2020  \n",
       "153156    00000000    00000000  19/05/2020  "
      ]
     },
     "execution_count": 14,
     "metadata": {},
     "output_type": "execute_result"
    }
   ],
   "source": [
    "internacao_cols = ['DT_NOTIFIC', 'DT_SIN_PRI', 'DT_INTERNA', 'UTI', 'DT_ENTUTI', 'DT_SAIDUTI', 'SUPORT_VEN', 'IF_RESUL', 'POS_PCRFLU', 'CLASSI_FIN', 'CRITERIO', 'EVOLUCAO', 'DT_EVOLUCA', 'DT_ENCERRA', 'DT_DIGITA']\n",
    "df[internacao_cols].sample(4)"
   ]
  },
  {
   "cell_type": "markdown",
   "metadata": {},
   "source": [
    "## Entendendo as caracteristicas e criando hipóteses\n",
    "\n",
    "Nesta etapa vamos dar uma olhada melhor nas colunas e bolar algumas hipóteses, afim de alcançar o objetivo desta análise."
   ]
  },
  {
   "cell_type": "markdown",
   "metadata": {
    "scrolled": true
   },
   "source": [
    "### Idade\n",
    "\n",
    "O primeiro fator de risco apontado pelas notícias é a idade. Então vamos entender um pouco sobre"
   ]
  },
  {
   "cell_type": "code",
   "execution_count": 15,
   "metadata": {},
   "outputs": [
    {
     "data": {
      "text/plain": [
       "count    117432.000000\n",
       "mean         58.307267\n",
       "std          18.834602\n",
       "min           0.000000\n",
       "25%          45.000000\n",
       "50%          59.000000\n",
       "75%          73.000000\n",
       "max         136.000000\n",
       "Name: NU_IDADE_N, dtype: float64"
      ]
     },
     "execution_count": 15,
     "metadata": {},
     "output_type": "execute_result"
    }
   ],
   "source": [
    "df.NU_IDADE_N.describe()"
   ]
  },
  {
   "cell_type": "code",
   "execution_count": 16,
   "metadata": {},
   "outputs": [
    {
     "data": {
      "text/plain": [
       "(0.0, 110.0)"
      ]
     },
     "execution_count": 16,
     "metadata": {},
     "output_type": "execute_result"
    },
    {
     "data": {
      "image/png": "[encoded data removed]",
      "text/plain": [
       "<Figure size 432x288 with 1 Axes>"
      ]
     },
     "metadata": {},
     "output_type": "display_data"
    }
   ],
   "source": [
    "fig, ax = plt.subplots(nrows=1, ncols=1)\n",
    "df.NU_IDADE_N.plot.kde(ax=ax)\n",
    "ax.set_xlim(0,110)"
   ]
  },
  {
   "cell_type": "code",
   "execution_count": 17,
   "metadata": {},
   "outputs": [
    {
     "data": {
      "text/html": [
       "<div>\n",
       "<style scoped>\n",
       "    .dataframe tbody tr th:only-of-type {\n",
       "        vertical-align: middle;\n",
       "    }\n",
       "\n",
       "    .dataframe tbody tr th {\n",
       "        vertical-align: top;\n",
       "    }\n",
       "\n",
       "    .dataframe thead th {\n",
       "        text-align: right;\n",
       "    }\n",
       "</style>\n",
       "<table border=\"1\" class=\"dataframe\">\n",
       "  <thead>\n",
       "    <tr style=\"text-align: right;\">\n",
       "      <th></th>\n",
       "      <th>count</th>\n",
       "      <th>mean</th>\n",
       "      <th>std</th>\n",
       "      <th>min</th>\n",
       "      <th>25%</th>\n",
       "      <th>50%</th>\n",
       "      <th>75%</th>\n",
       "      <th>max</th>\n",
       "    </tr>\n",
       "    <tr>\n",
       "      <th>EVOLUCAO</th>\n",
       "      <th></th>\n",
       "      <th></th>\n",
       "      <th></th>\n",
       "      <th></th>\n",
       "      <th></th>\n",
       "      <th></th>\n",
       "      <th></th>\n",
       "      <th></th>\n",
       "    </tr>\n",
       "  </thead>\n",
       "  <tbody>\n",
       "    <tr>\n",
       "      <th>1.0</th>\n",
       "      <td>46080.0</td>\n",
       "      <td>51.764974</td>\n",
       "      <td>17.698589</td>\n",
       "      <td>0.0</td>\n",
       "      <td>39.0</td>\n",
       "      <td>51.0</td>\n",
       "      <td>64.0</td>\n",
       "      <td>136.0</td>\n",
       "    </tr>\n",
       "    <tr>\n",
       "      <th>2.0</th>\n",
       "      <td>41705.0</td>\n",
       "      <td>67.766839</td>\n",
       "      <td>16.087663</td>\n",
       "      <td>0.0</td>\n",
       "      <td>58.0</td>\n",
       "      <td>69.0</td>\n",
       "      <td>80.0</td>\n",
       "      <td>114.0</td>\n",
       "    </tr>\n",
       "    <tr>\n",
       "      <th>9.0</th>\n",
       "      <td>4843.0</td>\n",
       "      <td>53.885608</td>\n",
       "      <td>18.308977</td>\n",
       "      <td>0.0</td>\n",
       "      <td>41.0</td>\n",
       "      <td>54.0</td>\n",
       "      <td>67.0</td>\n",
       "      <td>103.0</td>\n",
       "    </tr>\n",
       "  </tbody>\n",
       "</table>\n",
       "</div>"
      ],
      "text/plain": [
       "            count       mean        std  min   25%   50%   75%    max\n",
       "EVOLUCAO                                                             \n",
       "1.0       46080.0  51.764974  17.698589  0.0  39.0  51.0  64.0  136.0\n",
       "2.0       41705.0  67.766839  16.087663  0.0  58.0  69.0  80.0  114.0\n",
       "9.0        4843.0  53.885608  18.308977  0.0  41.0  54.0  67.0  103.0"
      ]
     },
     "execution_count": 17,
     "metadata": {},
     "output_type": "execute_result"
    }
   ],
   "source": [
    "df.groupby('EVOLUCAO').NU_IDADE_N.describe()"
   ]
  },
  {
   "cell_type": "code",
   "execution_count": 24,
   "metadata": {},
   "outputs": [
    {
     "data": {
      "text/plain": [
       "'ax=ax'"
      ]
     },
     "execution_count": 24,
     "metadata": {},
     "output_type": "execute_result"
    },
    {
     "data": {
      "image/png": "[encoded data removed]",
      "text/plain": [
       "<Figure size 432x288 with 1 Axes>"
      ]
     },
     "metadata": {},
     "output_type": "display_data"
    }
   ],
   "source": [
    "sns.distplot(df[df.EVOLUCAO == 1].NU_IDADE_N, hist = False, kde = True, kde_kws = {'shade': True, 'linewidth': 2}, label = 'Cura')\n",
    "sns.distplot(df[df.EVOLUCAO == 2].NU_IDADE_N, hist = False, kde = True, kde_kws = {'shade': True, 'linewidth': 2}, label = 'Obito')\n",
    "sns.distplot(df[df.EVOLUCAO == 9].NU_IDADE_N, hist = False, kde = True, kde_kws = {'shade': True, 'linewidth': 2}, label = 'Ignorado')\n",
    "sns.distplot(df[~df.EVOLUCAO.isin([1, 2, 9])].NU_IDADE_N, hist = False, kde = True, kde_kws = {'shade': True, 'linewidth': 2}, label = 'Indefinido')\n",
    ", ax=ax"
   ]
  },
  {
   "cell_type": "code",
   "execution_count": 22,
   "metadata": {},
   "outputs": [],
   "source": [
    "df.loc[:, 'IDADE_BINS'] = df.NU_IDADE_N.map(lambda age: 10 * (age // 10))\n",
    "df.loc[:, 'EVOLUCAO_BINS'] = df.EVOLUCAO.map(lambda x: 9 if x not in (1, 2, 9) else x).map({1:'Cura', 2:'Obito', 9:'Indefinido'})"
   ]
  },
  {
   "cell_type": "code",
   "execution_count": 20,
   "metadata": {},
   "outputs": [
    {
     "data": {
      "text/plain": [
       "<matplotlib.axes._subplots.AxesSubplot at 0x7f97486f5e80>"
      ]
     },
     "execution_count": 20,
     "metadata": {},
     "output_type": "execute_result"
    },
    {
     "data": {
      "image/png": "[encoded data removed]",
      "text/plain": [
       "<Figure size 432x288 with 1 Axes>"
      ]
     },
     "metadata": {},
     "output_type": "display_data"
    }
   ],
   "source": [
    "sns.countplot('IDADE_BINS',hue='EVOLUCAO_BINS',data=df[df.IDADE_BINS <= 100])\n"
   ]
  }
 ],
 "metadata": {
  "kernelspec": {
   "display_name": "Python 3",
   "language": "python",
   "name": "python3"
  },
  "language_info": {
   "codemirror_mode": {
    "name": "ipython",
    "version": 3
   },
   "file_extension": ".py",
   "mimetype": "text/x-python",
   "name": "python",
   "nbconvert_exporter": "python",
   "pygments_lexer": "ipython3",
   "version": "3.6.9"
  }
 },
 "nbformat": 4,
 "nbformat_minor": 4
}
