{
 "cells": [
  {
   "cell_type": "markdown",
   "metadata": {},
   "source": [
    "# Análise do covid no Brasil\n",
    "\n",
    "## Introdução\n",
    "\n",
    "Esta é uma análise exploratória inicial dos dados do COVID-19 no Brasil.\n",
    "\n",
    "\n",
    "### Objetivo\n",
    "\n",
    "O objetivo é entender a distribuição da população contaminada por COVID-19.\n",
    "\n",
    "\n",
    "### Metodologia\n",
    "\n",
    "Análisar as features a fim de entendermos as distribuições e suas caracteristicas.\n",
    "Algumas hipóteses:\n",
    "- A idade impacta no fator de sobrevivência\n",
    "\n",
    "\n",
    "### Resultado Esperado\n",
    "\n",
    "Espera-se verificar se fatores como idade, sexo e fatores de risco contribuem para complicação da doença.\n",
    "\n",
    "\n",
    "## Base de Dados\n",
    "\n",
    "Foi utilizado dados abertos disponíveis em [https://opendatasus.saude.gov.br/dataset/bd-srag-2020](https://opendatasus.saude.gov.br/dataset/bd-srag-2020) com a data de 18/05/2020.\n",
    "\n",
    "Esta base é disponibilizada pelo ***Vigilância de Síndrome Respiratória Aguda Grave (SRAG)***. O SRAG é um programa da Secretaria de Vigilância em Saúde (SVS).\n",
    "\n",
    "O Dicionário com o significado de cada uma das colunas esta localizado [Aqui](https://opendatasus.saude.gov.br/dataset/9bc2013f-f293-4f3e-94e7-fa76204fc035/resource/20e51b77-b129-4fd5-84f6-e9428ab5e286/download/dicionario_de_dados_srag_hospitalizado_atual-sivepgripe.pdf)\n",
    "\n",
    "**Um ponto importante** é que os casos que constam nesta base são os casos mais severos e que necessitaram de atendimento médico. Conforme a recomendação do Ministério da Saúde para a população, os casos com sintomas não tão severos recomendava-se a não ir no pronto atendimento. Ou seja, é importante ter em mente que esses dados não representam a real situação da doença no Brasil, e sim uma amostra."
   ]
  },
  {
   "cell_type": "markdown",
   "metadata": {},
   "source": [
    "## Análise da Base e das Características"
   ]
  },
  {
   "cell_type": "code",
   "execution_count": 1,
   "metadata": {},
   "outputs": [],
   "source": [
    "import pandas as pd\n",
    "import numpy as np\n",
    "import matplotlib.pyplot as plt\n",
    "import seaborn as sns"
   ]
  },
  {
   "cell_type": "code",
   "execution_count": 2,
   "metadata": {},
   "outputs": [],
   "source": [
    "pd.options.display.max_columns = 20\n",
    "sns.set(style=\"whitegrid\")"
   ]
  },
  {
   "cell_type": "code",
   "execution_count": 3,
   "metadata": {},
   "outputs": [],
   "source": [
    "# Nao esquecer de descompactar a base de dados\n",
    "\n",
    "file_name = 'data/INFLUD-23-06-2020.csv'\n",
    "\n",
    "# df_full = pd.read_csv(file_name, sep=';', engine='c', encoding='utf8', error_bad_lines=False, low_memory=False)\n",
    "df_full = pd.read_csv(file_name, sep=';', engine='c', encoding='ISO-8859-1',error_bad_lines=False, low_memory=False)"
   ]
  },
  {
   "cell_type": "code",
   "execution_count": 4,
   "metadata": {
    "scrolled": false
   },
   "outputs": [
    {
     "name": "stdout",
     "output_type": "stream",
     "text": [
      "<class 'pandas.core.frame.DataFrame'>\n",
      "RangeIndex: 326193 entries, 0 to 326192\n",
      "Columns: 134 entries, DT_NOTIFIC to PAC_DSCBO\n",
      "dtypes: float64(76), int64(10), object(48)\n",
      "memory usage: 333.5+ MB\n"
     ]
    }
   ],
   "source": [
    "df_full.info()"
   ]
  },
  {
   "cell_type": "markdown",
   "metadata": {},
   "source": [
    "### Removendo um pouco das colunas\n",
    "A base possui muitas colunas (+130), e ao analisar o Dicionário de dados, notei que muitas delas não serão úteis para análise da população do COVID. Vamos ler o documento de Discionário e fazer uma filtragem em alto nível de quais colunas serão retiradas."
   ]
  },
  {
   "cell_type": "code",
   "execution_count": 5,
   "metadata": {},
   "outputs": [],
   "source": [
    "# cols_to_drop = ['CS_ETINIA', 'ID_PAIS', 'ID_RG_RESI', 'CO_RG_RESI', 'AVE_SUINO', 'NOSOCOMIAL', 'VACINA', 'DT_UT_DOSE', 'MAE_VAC', 'DT_VAC_MAE', 'M_AMAMENTA', 'DT_DOSEUNI', 'DT_1_DOSE', 'DT_2_DOSE', 'ANTIVIRAL', 'TP_ANTIVIR', 'OUT_ANTIV', 'DT_ANTIVIR', 'RAIOX_RES', 'RAIOX_OUT', 'DT_RAIOX', 'AMOSTRA', 'DT_COLETA', 'TP_AMOSTRA', 'OUT_AMOST', 'REQUI_GAL', 'DT_IF', 'POS_IF_FLU', 'TP_FLU_IF', 'POS_IF_OUT', 'IF_VSR', 'IF_PARA1', 'IF_PARA2', 'IF_PARA3', 'IF_ADENO', 'IF_OUTRO', 'DS_IF_OUT', 'LAB_IF', 'CO_LAB_IF', 'PCR_RESUL', 'DT_PCR', 'TP_FLU_PCR', 'PCR_FLUASU', 'FLUASU_OUT', 'PCR_FLUBLI', 'FLUBLI_OUT', 'POS_PCROUT', 'PCR_VSR', 'PCR_PARA1', 'PCR_PARA2', 'PCR_PARA3', 'PCR_PARA4', 'PCR_ADENO', 'PCR_METAP', 'PCR_BOCA', 'PCR_RINO', 'PCR_OUTRO', 'DS_PCR_OUT', 'CLASSI_OUT', 'HISTO_VGM', 'PAIS_VGM', 'CO_PS_VGM', 'LO_PS_VGM', 'DT_VGM', 'DT_RT_VGM', 'PCR_SARS2', 'PAC_COCBO', 'PAC_DSCBO', 'CO_UN_INTE', 'NM_UN_INTE', 'OBSERVA',]\n",
    "cols_to_drop = ['CS_ETINIA', 'ID_PAIS', 'ID_RG_RESI', 'CO_RG_RESI', 'AVE_SUINO', 'NOSOCOMIAL', 'VACINA', 'DT_UT_DOSE', 'MAE_VAC', 'DT_VAC_MAE', 'M_AMAMENTA', 'DT_DOSEUNI', 'DT_1_DOSE', 'DT_2_DOSE', 'ANTIVIRAL', 'TP_ANTIVIR', 'OUT_ANTIV', 'DT_ANTIVIR', 'RAIOX_RES', 'RAIOX_OUT', 'DT_RAIOX', 'AMOSTRA', 'DT_COLETA', 'TP_AMOSTRA', 'OUT_AMOST', 'DT_IF', 'POS_IF_FLU', 'TP_FLU_IF', 'POS_IF_OUT', 'IF_VSR', 'IF_PARA1', 'IF_PARA2', 'IF_PARA3', 'IF_ADENO', 'IF_OUTRO', 'DS_IF_OUT', 'PCR_RESUL', 'DT_PCR', 'TP_FLU_PCR', 'PCR_FLUASU', 'FLUASU_OUT', 'PCR_FLUBLI', 'FLUBLI_OUT', 'POS_PCROUT', 'PCR_VSR', 'PCR_PARA1', 'PCR_PARA2', 'PCR_PARA3', 'PCR_PARA4', 'PCR_ADENO', 'PCR_METAP', 'PCR_BOCA', 'PCR_RINO', 'PCR_OUTRO', 'DS_PCR_OUT', 'CLASSI_OUT', 'HISTO_VGM', 'PAIS_VGM', 'CO_PS_VGM', 'LO_PS_VGM', 'DT_VGM', 'DT_RT_VGM', 'PCR_SARS2', 'PAC_COCBO', 'PAC_DSCBO',]\n",
    "df_clean = df_full.drop(cols_to_drop, axis=1)"
   ]
  },
  {
   "cell_type": "code",
   "execution_count": 6,
   "metadata": {},
   "outputs": [
    {
     "name": "stdout",
     "output_type": "stream",
     "text": [
      "<class 'pandas.core.frame.DataFrame'>\n",
      "RangeIndex: 326193 entries, 0 to 326192\n",
      "Columns: 69 entries, DT_NOTIFIC to DT_DIGITA\n",
      "dtypes: float64(39), int64(9), object(21)\n",
      "memory usage: 171.7+ MB\n"
     ]
    }
   ],
   "source": [
    "df_clean.info(verbose=False)"
   ]
  },
  {
   "cell_type": "code",
   "execution_count": 7,
   "metadata": {},
   "outputs": [
    {
     "data": {
      "text/html": [
       "<div>\n",
       "<style scoped>\n",
       "    .dataframe tbody tr th:only-of-type {\n",
       "        vertical-align: middle;\n",
       "    }\n",
       "\n",
       "    .dataframe tbody tr th {\n",
       "        vertical-align: top;\n",
       "    }\n",
       "\n",
       "    .dataframe thead th {\n",
       "        text-align: right;\n",
       "    }\n",
       "</style>\n",
       "<table border=\"1\" class=\"dataframe\">\n",
       "  <thead>\n",
       "    <tr style=\"text-align: right;\">\n",
       "      <th></th>\n",
       "      <th>DT_NOTIFIC</th>\n",
       "      <th>SEM_NOT</th>\n",
       "      <th>DT_SIN_PRI</th>\n",
       "      <th>SEM_PRI</th>\n",
       "      <th>SG_UF_NOT</th>\n",
       "      <th>ID_REGIONA</th>\n",
       "      <th>CO_REGIONA</th>\n",
       "      <th>ID_MUNICIP</th>\n",
       "      <th>CO_MUN_NOT</th>\n",
       "      <th>ID_UNIDADE</th>\n",
       "      <th>...</th>\n",
       "      <th>DT_SAIDUTI</th>\n",
       "      <th>SUPORT_VEN</th>\n",
       "      <th>IF_RESUL</th>\n",
       "      <th>POS_PCRFLU</th>\n",
       "      <th>CLASSI_FIN</th>\n",
       "      <th>CRITERIO</th>\n",
       "      <th>EVOLUCAO</th>\n",
       "      <th>DT_EVOLUCA</th>\n",
       "      <th>DT_ENCERRA</th>\n",
       "      <th>DT_DIGITA</th>\n",
       "    </tr>\n",
       "  </thead>\n",
       "  <tbody>\n",
       "    <tr>\n",
       "      <th>319067</th>\n",
       "      <td>12/06/2020</td>\n",
       "      <td>24</td>\n",
       "      <td>08/06/2020</td>\n",
       "      <td>24</td>\n",
       "      <td>SP</td>\n",
       "      <td>GVE XVII CAMPINAS</td>\n",
       "      <td>1342.0</td>\n",
       "      <td>CAMPINAS</td>\n",
       "      <td>350950</td>\n",
       "      <td>HOSPITAL DAS CLINICAS DA UNICAMP DE CAMPINAS</td>\n",
       "      <td>...</td>\n",
       "      <td>00000000</td>\n",
       "      <td>1.0</td>\n",
       "      <td>4.0</td>\n",
       "      <td>2.0</td>\n",
       "      <td>5.0</td>\n",
       "      <td>1.0</td>\n",
       "      <td>NaN</td>\n",
       "      <td>00000000</td>\n",
       "      <td>22/06/2020</td>\n",
       "      <td>22/06/2020</td>\n",
       "    </tr>\n",
       "    <tr>\n",
       "      <th>246931</th>\n",
       "      <td>08/06/2020</td>\n",
       "      <td>24</td>\n",
       "      <td>25/05/2020</td>\n",
       "      <td>22</td>\n",
       "      <td>RJ</td>\n",
       "      <td>NaN</td>\n",
       "      <td>NaN</td>\n",
       "      <td>NITEROI</td>\n",
       "      <td>330330</td>\n",
       "      <td>SES RJ HOSPITAL ESTADUAL AZEVEDO LIMA</td>\n",
       "      <td>...</td>\n",
       "      <td>00000000</td>\n",
       "      <td>1.0</td>\n",
       "      <td>5.0</td>\n",
       "      <td>NaN</td>\n",
       "      <td>NaN</td>\n",
       "      <td>NaN</td>\n",
       "      <td>NaN</td>\n",
       "      <td>00000000</td>\n",
       "      <td>00000000</td>\n",
       "      <td>09/06/2020</td>\n",
       "    </tr>\n",
       "    <tr>\n",
       "      <th>50023</th>\n",
       "      <td>15/04/2020</td>\n",
       "      <td>16</td>\n",
       "      <td>14/04/2020</td>\n",
       "      <td>16</td>\n",
       "      <td>SP</td>\n",
       "      <td>GVE I CAPITAL</td>\n",
       "      <td>1331.0</td>\n",
       "      <td>SAO PAULO</td>\n",
       "      <td>355030</td>\n",
       "      <td>CONJUNTO HOSPITALAR DO MANDAQUI SAO PAULO</td>\n",
       "      <td>...</td>\n",
       "      <td>07/05/2020</td>\n",
       "      <td>1.0</td>\n",
       "      <td>NaN</td>\n",
       "      <td>NaN</td>\n",
       "      <td>5.0</td>\n",
       "      <td>1.0</td>\n",
       "      <td>2.0</td>\n",
       "      <td>07/05/2020</td>\n",
       "      <td>21/04/2020</td>\n",
       "      <td>16/04/2020</td>\n",
       "    </tr>\n",
       "    <tr>\n",
       "      <th>296189</th>\n",
       "      <td>12/06/2020</td>\n",
       "      <td>24</td>\n",
       "      <td>05/06/2020</td>\n",
       "      <td>23</td>\n",
       "      <td>SP</td>\n",
       "      <td>GVE I CAPITAL</td>\n",
       "      <td>1331.0</td>\n",
       "      <td>SAO PAULO</td>\n",
       "      <td>355030</td>\n",
       "      <td>HOSP MAT VIDAS</td>\n",
       "      <td>...</td>\n",
       "      <td>00000000</td>\n",
       "      <td>2.0</td>\n",
       "      <td>5.0</td>\n",
       "      <td>NaN</td>\n",
       "      <td>NaN</td>\n",
       "      <td>NaN</td>\n",
       "      <td>NaN</td>\n",
       "      <td>00000000</td>\n",
       "      <td>00000000</td>\n",
       "      <td>17/06/2020</td>\n",
       "    </tr>\n",
       "  </tbody>\n",
       "</table>\n",
       "<p>4 rows × 69 columns</p>\n",
       "</div>"
      ],
      "text/plain": [
       "        DT_NOTIFIC  SEM_NOT  DT_SIN_PRI  SEM_PRI SG_UF_NOT         ID_REGIONA  \\\n",
       "319067  12/06/2020       24  08/06/2020       24        SP  GVE XVII CAMPINAS   \n",
       "246931  08/06/2020       24  25/05/2020       22        RJ                NaN   \n",
       "50023   15/04/2020       16  14/04/2020       16        SP      GVE I CAPITAL   \n",
       "296189  12/06/2020       24  05/06/2020       23        SP      GVE I CAPITAL   \n",
       "\n",
       "        CO_REGIONA ID_MUNICIP  CO_MUN_NOT  \\\n",
       "319067      1342.0   CAMPINAS      350950   \n",
       "246931         NaN    NITEROI      330330   \n",
       "50023       1331.0  SAO PAULO      355030   \n",
       "296189      1331.0  SAO PAULO      355030   \n",
       "\n",
       "                                          ID_UNIDADE  ...  DT_SAIDUTI  \\\n",
       "319067  HOSPITAL DAS CLINICAS DA UNICAMP DE CAMPINAS  ...    00000000   \n",
       "246931         SES RJ HOSPITAL ESTADUAL AZEVEDO LIMA  ...    00000000   \n",
       "50023      CONJUNTO HOSPITALAR DO MANDAQUI SAO PAULO  ...  07/05/2020   \n",
       "296189                                HOSP MAT VIDAS  ...    00000000   \n",
       "\n",
       "       SUPORT_VEN IF_RESUL  POS_PCRFLU  CLASSI_FIN  CRITERIO  EVOLUCAO  \\\n",
       "319067        1.0      4.0         2.0         5.0       1.0       NaN   \n",
       "246931        1.0      5.0         NaN         NaN       NaN       NaN   \n",
       "50023         1.0      NaN         NaN         5.0       1.0       2.0   \n",
       "296189        2.0      5.0         NaN         NaN       NaN       NaN   \n",
       "\n",
       "        DT_EVOLUCA  DT_ENCERRA   DT_DIGITA  \n",
       "319067    00000000  22/06/2020  22/06/2020  \n",
       "246931    00000000    00000000  09/06/2020  \n",
       "50023   07/05/2020  21/04/2020  16/04/2020  \n",
       "296189    00000000    00000000  17/06/2020  \n",
       "\n",
       "[4 rows x 69 columns]"
      ]
     },
     "execution_count": 7,
     "metadata": {},
     "output_type": "execute_result"
    }
   ],
   "source": [
    "df_clean.sample(4)"
   ]
  },
  {
   "cell_type": "code",
   "execution_count": 8,
   "metadata": {},
   "outputs": [],
   "source": [
    "df = df_clean.copy()\n",
    "\n",
    "# Mantendo apenas os casos de COVID, embora suspeito que tenha muitos casos de CLASSI_FIN==4 que são COVID.\n",
    "df = df[df.CLASSI_FIN==5]"
   ]
  },
  {
   "cell_type": "code",
   "execution_count": 9,
   "metadata": {},
   "outputs": [
    {
     "name": "stdout",
     "output_type": "stream",
     "text": [
      "<class 'pandas.core.frame.DataFrame'>\n",
      "Int64Index: 138305 entries, 2210 to 326190\n",
      "Columns: 69 entries, DT_NOTIFIC to DT_DIGITA\n",
      "dtypes: float64(39), int64(9), object(21)\n",
      "memory usage: 73.9+ MB\n"
     ]
    }
   ],
   "source": [
    "df.info(verbose=False)"
   ]
  },
  {
   "cell_type": "markdown",
   "metadata": {},
   "source": [
    "### Entendendo um pouco das características\n",
    "\n",
    "Ao analisar o Dicionario de dados, notei algumas colunas importantes para análise, então as separei em 5 grupos:\n",
    "* Sintomas\n",
    "* Fatores de Risco\n",
    "* Localização\n",
    "* Informações Pessoais\n",
    "* Dados da Internação"
   ]
  },
  {
   "cell_type": "code",
   "execution_count": 10,
   "metadata": {},
   "outputs": [
    {
     "data": {
      "text/html": [
       "<div>\n",
       "<style scoped>\n",
       "    .dataframe tbody tr th:only-of-type {\n",
       "        vertical-align: middle;\n",
       "    }\n",
       "\n",
       "    .dataframe tbody tr th {\n",
       "        vertical-align: top;\n",
       "    }\n",
       "\n",
       "    .dataframe thead th {\n",
       "        text-align: right;\n",
       "    }\n",
       "</style>\n",
       "<table border=\"1\" class=\"dataframe\">\n",
       "  <thead>\n",
       "    <tr style=\"text-align: right;\">\n",
       "      <th></th>\n",
       "      <th>FEBRE</th>\n",
       "      <th>TOSSE</th>\n",
       "      <th>GARGANTA</th>\n",
       "      <th>DISPNEIA</th>\n",
       "      <th>DESC_RESP</th>\n",
       "      <th>SATURACAO</th>\n",
       "      <th>DIARREIA</th>\n",
       "      <th>VOMITO</th>\n",
       "      <th>OUTRO_DES</th>\n",
       "    </tr>\n",
       "  </thead>\n",
       "  <tbody>\n",
       "    <tr>\n",
       "      <th>162152</th>\n",
       "      <td>NaN</td>\n",
       "      <td>1.0</td>\n",
       "      <td>NaN</td>\n",
       "      <td>1.0</td>\n",
       "      <td>1.0</td>\n",
       "      <td>1.0</td>\n",
       "      <td>NaN</td>\n",
       "      <td>NaN</td>\n",
       "      <td>NaN</td>\n",
       "    </tr>\n",
       "    <tr>\n",
       "      <th>266058</th>\n",
       "      <td>1.0</td>\n",
       "      <td>NaN</td>\n",
       "      <td>NaN</td>\n",
       "      <td>NaN</td>\n",
       "      <td>NaN</td>\n",
       "      <td>NaN</td>\n",
       "      <td>NaN</td>\n",
       "      <td>NaN</td>\n",
       "      <td>AGEUSIA, ANOSMIA, CEFALEIA</td>\n",
       "    </tr>\n",
       "    <tr>\n",
       "      <th>35201</th>\n",
       "      <td>1.0</td>\n",
       "      <td>1.0</td>\n",
       "      <td>2.0</td>\n",
       "      <td>1.0</td>\n",
       "      <td>1.0</td>\n",
       "      <td>1.0</td>\n",
       "      <td>2.0</td>\n",
       "      <td>2.0</td>\n",
       "      <td>ALTERACAO OLFATO, MAL ESTAR</td>\n",
       "    </tr>\n",
       "    <tr>\n",
       "      <th>180020</th>\n",
       "      <td>1.0</td>\n",
       "      <td>1.0</td>\n",
       "      <td>2.0</td>\n",
       "      <td>1.0</td>\n",
       "      <td>1.0</td>\n",
       "      <td>1.0</td>\n",
       "      <td>2.0</td>\n",
       "      <td>2.0</td>\n",
       "      <td>MIALGIA</td>\n",
       "    </tr>\n",
       "  </tbody>\n",
       "</table>\n",
       "</div>"
      ],
      "text/plain": [
       "        FEBRE  TOSSE  GARGANTA  DISPNEIA  DESC_RESP  SATURACAO  DIARREIA  \\\n",
       "162152    NaN    1.0       NaN       1.0        1.0        1.0       NaN   \n",
       "266058    1.0    NaN       NaN       NaN        NaN        NaN       NaN   \n",
       "35201     1.0    1.0       2.0       1.0        1.0        1.0       2.0   \n",
       "180020    1.0    1.0       2.0       1.0        1.0        1.0       2.0   \n",
       "\n",
       "        VOMITO                    OUTRO_DES  \n",
       "162152     NaN                          NaN  \n",
       "266058     NaN   AGEUSIA, ANOSMIA, CEFALEIA  \n",
       "35201      2.0  ALTERACAO OLFATO, MAL ESTAR  \n",
       "180020     2.0                      MIALGIA  "
      ]
     },
     "execution_count": 10,
     "metadata": {},
     "output_type": "execute_result"
    }
   ],
   "source": [
    "sintomas_cols = ['FEBRE', 'TOSSE', 'GARGANTA', 'DISPNEIA', 'DESC_RESP', 'SATURACAO', 'DIARREIA', 'VOMITO', 'OUTRO_DES']\n",
    "# OUTRO_DES if OUTRO_SIN == 1\n",
    "df[sintomas_cols].sample(4)"
   ]
  },
  {
   "cell_type": "code",
   "execution_count": 11,
   "metadata": {},
   "outputs": [
    {
     "data": {
      "text/html": [
       "<div>\n",
       "<style scoped>\n",
       "    .dataframe tbody tr th:only-of-type {\n",
       "        vertical-align: middle;\n",
       "    }\n",
       "\n",
       "    .dataframe tbody tr th {\n",
       "        vertical-align: top;\n",
       "    }\n",
       "\n",
       "    .dataframe thead th {\n",
       "        text-align: right;\n",
       "    }\n",
       "</style>\n",
       "<table border=\"1\" class=\"dataframe\">\n",
       "  <thead>\n",
       "    <tr style=\"text-align: right;\">\n",
       "      <th></th>\n",
       "      <th>PUERPERA</th>\n",
       "      <th>CARDIOPATI</th>\n",
       "      <th>HEMATOLOGI</th>\n",
       "      <th>SIND_DOWN</th>\n",
       "      <th>HEPATICA</th>\n",
       "      <th>ASMA</th>\n",
       "      <th>DIABETES</th>\n",
       "      <th>NEUROLOGIC</th>\n",
       "      <th>PNEUMOPATI</th>\n",
       "      <th>IMUNODEPRE</th>\n",
       "      <th>RENAL</th>\n",
       "      <th>OBESIDADE</th>\n",
       "      <th>MORB_DESC</th>\n",
       "    </tr>\n",
       "  </thead>\n",
       "  <tbody>\n",
       "    <tr>\n",
       "      <th>68962</th>\n",
       "      <td>NaN</td>\n",
       "      <td>NaN</td>\n",
       "      <td>NaN</td>\n",
       "      <td>NaN</td>\n",
       "      <td>NaN</td>\n",
       "      <td>NaN</td>\n",
       "      <td>NaN</td>\n",
       "      <td>NaN</td>\n",
       "      <td>NaN</td>\n",
       "      <td>NaN</td>\n",
       "      <td>NaN</td>\n",
       "      <td>NaN</td>\n",
       "      <td>NaN</td>\n",
       "    </tr>\n",
       "    <tr>\n",
       "      <th>102805</th>\n",
       "      <td>NaN</td>\n",
       "      <td>NaN</td>\n",
       "      <td>NaN</td>\n",
       "      <td>NaN</td>\n",
       "      <td>NaN</td>\n",
       "      <td>NaN</td>\n",
       "      <td>NaN</td>\n",
       "      <td>NaN</td>\n",
       "      <td>NaN</td>\n",
       "      <td>NaN</td>\n",
       "      <td>NaN</td>\n",
       "      <td>NaN</td>\n",
       "      <td>NaN</td>\n",
       "    </tr>\n",
       "    <tr>\n",
       "      <th>221072</th>\n",
       "      <td>NaN</td>\n",
       "      <td>1.0</td>\n",
       "      <td>NaN</td>\n",
       "      <td>NaN</td>\n",
       "      <td>NaN</td>\n",
       "      <td>NaN</td>\n",
       "      <td>NaN</td>\n",
       "      <td>NaN</td>\n",
       "      <td>NaN</td>\n",
       "      <td>NaN</td>\n",
       "      <td>NaN</td>\n",
       "      <td>NaN</td>\n",
       "      <td>NaN</td>\n",
       "    </tr>\n",
       "    <tr>\n",
       "      <th>12234</th>\n",
       "      <td>NaN</td>\n",
       "      <td>NaN</td>\n",
       "      <td>NaN</td>\n",
       "      <td>NaN</td>\n",
       "      <td>NaN</td>\n",
       "      <td>1.0</td>\n",
       "      <td>NaN</td>\n",
       "      <td>NaN</td>\n",
       "      <td>NaN</td>\n",
       "      <td>NaN</td>\n",
       "      <td>NaN</td>\n",
       "      <td>NaN</td>\n",
       "      <td>RINITE</td>\n",
       "    </tr>\n",
       "  </tbody>\n",
       "</table>\n",
       "</div>"
      ],
      "text/plain": [
       "        PUERPERA  CARDIOPATI  HEMATOLOGI  SIND_DOWN  HEPATICA  ASMA  DIABETES  \\\n",
       "68962        NaN         NaN         NaN        NaN       NaN   NaN       NaN   \n",
       "102805       NaN         NaN         NaN        NaN       NaN   NaN       NaN   \n",
       "221072       NaN         1.0         NaN        NaN       NaN   NaN       NaN   \n",
       "12234        NaN         NaN         NaN        NaN       NaN   1.0       NaN   \n",
       "\n",
       "        NEUROLOGIC  PNEUMOPATI  IMUNODEPRE  RENAL  OBESIDADE MORB_DESC  \n",
       "68962          NaN         NaN         NaN    NaN        NaN       NaN  \n",
       "102805         NaN         NaN         NaN    NaN        NaN       NaN  \n",
       "221072         NaN         NaN         NaN    NaN        NaN       NaN  \n",
       "12234          NaN         NaN         NaN    NaN        NaN    RINITE  "
      ]
     },
     "execution_count": 11,
     "metadata": {},
     "output_type": "execute_result"
    }
   ],
   "source": [
    "fatores_risco_cols = ['PUERPERA', 'CARDIOPATI', 'HEMATOLOGI', 'SIND_DOWN', 'HEPATICA', 'ASMA', 'DIABETES', 'NEUROLOGIC', 'PNEUMOPATI', 'IMUNODEPRE', 'RENAL', 'OBESIDADE', 'MORB_DESC']\n",
    "# MORB_DESC if OUT_MORBI == 1\n",
    "# if OBESIDADE==1 then OBES_IMC is not null\n",
    "df[fatores_risco_cols].sample(4)"
   ]
  },
  {
   "cell_type": "code",
   "execution_count": 12,
   "metadata": {},
   "outputs": [
    {
     "data": {
      "text/html": [
       "<div>\n",
       "<style scoped>\n",
       "    .dataframe tbody tr th:only-of-type {\n",
       "        vertical-align: middle;\n",
       "    }\n",
       "\n",
       "    .dataframe tbody tr th {\n",
       "        vertical-align: top;\n",
       "    }\n",
       "\n",
       "    .dataframe thead th {\n",
       "        text-align: right;\n",
       "    }\n",
       "</style>\n",
       "<table border=\"1\" class=\"dataframe\">\n",
       "  <thead>\n",
       "    <tr style=\"text-align: right;\">\n",
       "      <th></th>\n",
       "      <th>SG_UF_NOT</th>\n",
       "      <th>ID_MUNICIP</th>\n",
       "      <th>ID_UNIDADE</th>\n",
       "      <th>CO_PAIS</th>\n",
       "      <th>SG_UF</th>\n",
       "      <th>ID_MN_RESI</th>\n",
       "      <th>CS_ZONA</th>\n",
       "      <th>ID_MN_INTE</th>\n",
       "    </tr>\n",
       "  </thead>\n",
       "  <tbody>\n",
       "    <tr>\n",
       "      <th>275939</th>\n",
       "      <td>PI</td>\n",
       "      <td>TERESINA</td>\n",
       "      <td>HOSPITAL UNIMED TERESINA</td>\n",
       "      <td>1</td>\n",
       "      <td>PI</td>\n",
       "      <td>TERESINA</td>\n",
       "      <td>1.0</td>\n",
       "      <td>TERESINA</td>\n",
       "    </tr>\n",
       "    <tr>\n",
       "      <th>83966</th>\n",
       "      <td>RJ</td>\n",
       "      <td>RIO DE JANEIRO</td>\n",
       "      <td>SMS COORD DE EMERGENCIA REGIONAL CER CENTRO AP 10</td>\n",
       "      <td>1</td>\n",
       "      <td>RJ</td>\n",
       "      <td>MESQUITA</td>\n",
       "      <td>1.0</td>\n",
       "      <td>RIO DE JANEIRO</td>\n",
       "    </tr>\n",
       "    <tr>\n",
       "      <th>83589</th>\n",
       "      <td>SP</td>\n",
       "      <td>SAO PAULO</td>\n",
       "      <td>HOSPITAL BOSQUE DA SAUDE</td>\n",
       "      <td>1</td>\n",
       "      <td>SP</td>\n",
       "      <td>SAO PAULO</td>\n",
       "      <td>1.0</td>\n",
       "      <td>SAO PAULO</td>\n",
       "    </tr>\n",
       "    <tr>\n",
       "      <th>110395</th>\n",
       "      <td>TO</td>\n",
       "      <td>PALMAS</td>\n",
       "      <td>HOSPITAL GERAL DE PALMAS DR FRANCISCO AYRES</td>\n",
       "      <td>1</td>\n",
       "      <td>TO</td>\n",
       "      <td>BARROLANDIA</td>\n",
       "      <td>1.0</td>\n",
       "      <td>PALMAS</td>\n",
       "    </tr>\n",
       "  </tbody>\n",
       "</table>\n",
       "</div>"
      ],
      "text/plain": [
       "       SG_UF_NOT      ID_MUNICIP  \\\n",
       "275939        PI        TERESINA   \n",
       "83966         RJ  RIO DE JANEIRO   \n",
       "83589         SP       SAO PAULO   \n",
       "110395        TO          PALMAS   \n",
       "\n",
       "                                               ID_UNIDADE  CO_PAIS SG_UF  \\\n",
       "275939                           HOSPITAL UNIMED TERESINA        1    PI   \n",
       "83966   SMS COORD DE EMERGENCIA REGIONAL CER CENTRO AP 10        1    RJ   \n",
       "83589                            HOSPITAL BOSQUE DA SAUDE        1    SP   \n",
       "110395        HOSPITAL GERAL DE PALMAS DR FRANCISCO AYRES        1    TO   \n",
       "\n",
       "         ID_MN_RESI  CS_ZONA      ID_MN_INTE  \n",
       "275939     TERESINA      1.0        TERESINA  \n",
       "83966      MESQUITA      1.0  RIO DE JANEIRO  \n",
       "83589     SAO PAULO      1.0       SAO PAULO  \n",
       "110395  BARROLANDIA      1.0          PALMAS  "
      ]
     },
     "execution_count": 12,
     "metadata": {},
     "output_type": "execute_result"
    }
   ],
   "source": [
    "localizacao_cols = ['SG_UF_NOT', 'ID_MUNICIP', 'ID_UNIDADE', 'CO_PAIS', 'SG_UF', 'ID_MN_RESI', 'CS_ZONA', 'ID_MN_INTE',]\n",
    "df[localizacao_cols].sample(4)"
   ]
  },
  {
   "cell_type": "code",
   "execution_count": 13,
   "metadata": {},
   "outputs": [
    {
     "data": {
      "text/html": [
       "<div>\n",
       "<style scoped>\n",
       "    .dataframe tbody tr th:only-of-type {\n",
       "        vertical-align: middle;\n",
       "    }\n",
       "\n",
       "    .dataframe tbody tr th {\n",
       "        vertical-align: top;\n",
       "    }\n",
       "\n",
       "    .dataframe thead th {\n",
       "        text-align: right;\n",
       "    }\n",
       "</style>\n",
       "<table border=\"1\" class=\"dataframe\">\n",
       "  <thead>\n",
       "    <tr style=\"text-align: right;\">\n",
       "      <th></th>\n",
       "      <th>CS_SEXO</th>\n",
       "      <th>DT_NASC</th>\n",
       "      <th>NU_IDADE_N</th>\n",
       "      <th>TP_IDADE</th>\n",
       "      <th>CS_GESTANT</th>\n",
       "      <th>CS_RACA</th>\n",
       "      <th>CS_ESCOL_N</th>\n",
       "    </tr>\n",
       "  </thead>\n",
       "  <tbody>\n",
       "    <tr>\n",
       "      <th>240296</th>\n",
       "      <td>M</td>\n",
       "      <td>13/02/1947</td>\n",
       "      <td>73</td>\n",
       "      <td>3</td>\n",
       "      <td>6</td>\n",
       "      <td>4.0</td>\n",
       "      <td>NaN</td>\n",
       "    </tr>\n",
       "    <tr>\n",
       "      <th>57696</th>\n",
       "      <td>M</td>\n",
       "      <td>01/01/1961</td>\n",
       "      <td>59</td>\n",
       "      <td>3</td>\n",
       "      <td>6</td>\n",
       "      <td>1.0</td>\n",
       "      <td>3.0</td>\n",
       "    </tr>\n",
       "    <tr>\n",
       "      <th>167614</th>\n",
       "      <td>F</td>\n",
       "      <td>05/01/1983</td>\n",
       "      <td>37</td>\n",
       "      <td>3</td>\n",
       "      <td>5</td>\n",
       "      <td>1.0</td>\n",
       "      <td>9.0</td>\n",
       "    </tr>\n",
       "    <tr>\n",
       "      <th>107220</th>\n",
       "      <td>M</td>\n",
       "      <td>11/05/1989</td>\n",
       "      <td>30</td>\n",
       "      <td>3</td>\n",
       "      <td>6</td>\n",
       "      <td>1.0</td>\n",
       "      <td>2.0</td>\n",
       "    </tr>\n",
       "  </tbody>\n",
       "</table>\n",
       "</div>"
      ],
      "text/plain": [
       "       CS_SEXO     DT_NASC  NU_IDADE_N  TP_IDADE  CS_GESTANT  CS_RACA  \\\n",
       "240296       M  13/02/1947          73         3           6      4.0   \n",
       "57696        M  01/01/1961          59         3           6      1.0   \n",
       "167614       F  05/01/1983          37         3           5      1.0   \n",
       "107220       M  11/05/1989          30         3           6      1.0   \n",
       "\n",
       "        CS_ESCOL_N  \n",
       "240296         NaN  \n",
       "57696          3.0  \n",
       "167614         9.0  \n",
       "107220         2.0  "
      ]
     },
     "execution_count": 13,
     "metadata": {},
     "output_type": "execute_result"
    }
   ],
   "source": [
    "info_p_cols = ['CS_SEXO', 'DT_NASC', 'NU_IDADE_N', 'TP_IDADE', 'CS_GESTANT', 'CS_RACA', 'CS_ESCOL_N']\n",
    "df[info_p_cols].sample(4)"
   ]
  },
  {
   "cell_type": "code",
   "execution_count": 14,
   "metadata": {},
   "outputs": [
    {
     "data": {
      "text/html": [
       "<div>\n",
       "<style scoped>\n",
       "    .dataframe tbody tr th:only-of-type {\n",
       "        vertical-align: middle;\n",
       "    }\n",
       "\n",
       "    .dataframe tbody tr th {\n",
       "        vertical-align: top;\n",
       "    }\n",
       "\n",
       "    .dataframe thead th {\n",
       "        text-align: right;\n",
       "    }\n",
       "</style>\n",
       "<table border=\"1\" class=\"dataframe\">\n",
       "  <thead>\n",
       "    <tr style=\"text-align: right;\">\n",
       "      <th></th>\n",
       "      <th>DT_NOTIFIC</th>\n",
       "      <th>DT_SIN_PRI</th>\n",
       "      <th>DT_INTERNA</th>\n",
       "      <th>UTI</th>\n",
       "      <th>DT_ENTUTI</th>\n",
       "      <th>DT_SAIDUTI</th>\n",
       "      <th>SUPORT_VEN</th>\n",
       "      <th>IF_RESUL</th>\n",
       "      <th>POS_PCRFLU</th>\n",
       "      <th>CLASSI_FIN</th>\n",
       "      <th>CRITERIO</th>\n",
       "      <th>EVOLUCAO</th>\n",
       "      <th>DT_EVOLUCA</th>\n",
       "      <th>DT_ENCERRA</th>\n",
       "      <th>DT_DIGITA</th>\n",
       "    </tr>\n",
       "  </thead>\n",
       "  <tbody>\n",
       "    <tr>\n",
       "      <th>216233</th>\n",
       "      <td>27/05/2020</td>\n",
       "      <td>22/05/2020</td>\n",
       "      <td>27/05/2020</td>\n",
       "      <td>2.0</td>\n",
       "      <td>00000000</td>\n",
       "      <td>00000000</td>\n",
       "      <td>3.0</td>\n",
       "      <td>4.0</td>\n",
       "      <td>2.0</td>\n",
       "      <td>5.0</td>\n",
       "      <td>1.0</td>\n",
       "      <td>1.0</td>\n",
       "      <td>06/06/2020</td>\n",
       "      <td>06/06/2020</td>\n",
       "      <td>02/06/2020</td>\n",
       "    </tr>\n",
       "    <tr>\n",
       "      <th>10180</th>\n",
       "      <td>19/03/2020</td>\n",
       "      <td>14/03/2020</td>\n",
       "      <td>18/03/2020</td>\n",
       "      <td>NaN</td>\n",
       "      <td>00000000</td>\n",
       "      <td>00000000</td>\n",
       "      <td>3.0</td>\n",
       "      <td>9.0</td>\n",
       "      <td>NaN</td>\n",
       "      <td>5.0</td>\n",
       "      <td>1.0</td>\n",
       "      <td>NaN</td>\n",
       "      <td>00000000</td>\n",
       "      <td>08/04/2020</td>\n",
       "      <td>25/03/2020</td>\n",
       "    </tr>\n",
       "    <tr>\n",
       "      <th>193547</th>\n",
       "      <td>28/05/2020</td>\n",
       "      <td>20/05/2020</td>\n",
       "      <td>27/05/2020</td>\n",
       "      <td>2.0</td>\n",
       "      <td>00000000</td>\n",
       "      <td>00000000</td>\n",
       "      <td>2.0</td>\n",
       "      <td>2.0</td>\n",
       "      <td>NaN</td>\n",
       "      <td>5.0</td>\n",
       "      <td>1.0</td>\n",
       "      <td>1.0</td>\n",
       "      <td>03/06/2020</td>\n",
       "      <td>05/06/2020</td>\n",
       "      <td>28/05/2020</td>\n",
       "    </tr>\n",
       "    <tr>\n",
       "      <th>289007</th>\n",
       "      <td>13/06/2020</td>\n",
       "      <td>01/06/2020</td>\n",
       "      <td>13/06/2020</td>\n",
       "      <td>1.0</td>\n",
       "      <td>18/06/2020</td>\n",
       "      <td>00000000</td>\n",
       "      <td>2.0</td>\n",
       "      <td>5.0</td>\n",
       "      <td>NaN</td>\n",
       "      <td>5.0</td>\n",
       "      <td>1.0</td>\n",
       "      <td>NaN</td>\n",
       "      <td>00000000</td>\n",
       "      <td>00000000</td>\n",
       "      <td>17/06/2020</td>\n",
       "    </tr>\n",
       "  </tbody>\n",
       "</table>\n",
       "</div>"
      ],
      "text/plain": [
       "        DT_NOTIFIC  DT_SIN_PRI  DT_INTERNA  UTI   DT_ENTUTI DT_SAIDUTI  \\\n",
       "216233  27/05/2020  22/05/2020  27/05/2020  2.0    00000000   00000000   \n",
       "10180   19/03/2020  14/03/2020  18/03/2020  NaN    00000000   00000000   \n",
       "193547  28/05/2020  20/05/2020  27/05/2020  2.0    00000000   00000000   \n",
       "289007  13/06/2020  01/06/2020  13/06/2020  1.0  18/06/2020   00000000   \n",
       "\n",
       "        SUPORT_VEN  IF_RESUL  POS_PCRFLU  CLASSI_FIN  CRITERIO  EVOLUCAO  \\\n",
       "216233         3.0       4.0         2.0         5.0       1.0       1.0   \n",
       "10180          3.0       9.0         NaN         5.0       1.0       NaN   \n",
       "193547         2.0       2.0         NaN         5.0       1.0       1.0   \n",
       "289007         2.0       5.0         NaN         5.0       1.0       NaN   \n",
       "\n",
       "        DT_EVOLUCA  DT_ENCERRA   DT_DIGITA  \n",
       "216233  06/06/2020  06/06/2020  02/06/2020  \n",
       "10180     00000000  08/04/2020  25/03/2020  \n",
       "193547  03/06/2020  05/06/2020  28/05/2020  \n",
       "289007    00000000    00000000  17/06/2020  "
      ]
     },
     "execution_count": 14,
     "metadata": {},
     "output_type": "execute_result"
    }
   ],
   "source": [
    "internacao_cols = ['DT_NOTIFIC', 'DT_SIN_PRI', 'DT_INTERNA', 'UTI', 'DT_ENTUTI', 'DT_SAIDUTI', 'SUPORT_VEN', 'IF_RESUL', 'POS_PCRFLU', 'CLASSI_FIN', 'CRITERIO', 'EVOLUCAO', 'DT_EVOLUCA', 'DT_ENCERRA', 'DT_DIGITA']\n",
    "df[internacao_cols].sample(4)"
   ]
  },
  {
   "cell_type": "markdown",
   "metadata": {},
   "source": [
    "## Entendendo as caracteristicas e criando hipóteses\n",
    "\n",
    "Nesta etapa vamos dar uma olhada melhor nas colunas e bolar algumas hipóteses, afim de alcançar o objetivo desta análise."
   ]
  },
  {
   "cell_type": "markdown",
   "metadata": {},
   "source": [
    "## > CLASSI_FIN\n",
    "\n",
    "A variável CLASSI_FIN que representa a classificação final da Doença. De acordo com o dicionário de dados temos os possíveis valores:\n",
    "1. SRAG por influenza\n",
    "2. SRAG por outro vírus respiratório\n",
    "3. SRAG por outro agente Etiológico, qual:\n",
    "4. SRAG não especificado\n",
    "5. COVID-19\n",
    "\n",
    "Vamos analisar o comportamento desta variável antes e Após a pandemia de covid."
   ]
  },
  {
   "cell_type": "code",
   "execution_count": 15,
   "metadata": {},
   "outputs": [
    {
     "data": {
      "text/plain": [
       "CLASSI_FIN\n",
       "1.0      2170\n",
       "2.0      2252\n",
       "3.0       749\n",
       "4.0    104867\n",
       "5.0    138305\n",
       "Name: CLASSI_FIN, dtype: int64"
      ]
     },
     "execution_count": 15,
     "metadata": {},
     "output_type": "execute_result"
    }
   ],
   "source": [
    "# Usando df_clean pois nela que temos a distribuição completa contendo todos os valores desta variável. \n",
    "# Após será usado apenas a variável df\n",
    "\n",
    "df_clean.groupby('CLASSI_FIN').CLASSI_FIN.count()"
   ]
  },
  {
   "cell_type": "code",
   "execution_count": 16,
   "metadata": {},
   "outputs": [
    {
     "data": {
      "text/plain": [
       "40175    01/03/2020\n",
       "Name: DT_NOTIFIC, dtype: object"
      ]
     },
     "execution_count": 16,
     "metadata": {},
     "output_type": "execute_result"
    }
   ],
   "source": [
    "# pegando o primeiro caso de covid no Brasil\n",
    "df_clean[df_clean.CLASSI_FIN == 5].sort_values(by='DT_NOTIFIC').DT_NOTIFIC.head(1)"
   ]
  },
  {
   "cell_type": "code",
   "execution_count": 17,
   "metadata": {},
   "outputs": [
    {
     "data": {
      "text/plain": [
       "28"
      ]
     },
     "execution_count": 17,
     "metadata": {},
     "output_type": "execute_result"
    }
   ],
   "source": [
    "df_clean[df_clean.DT_NOTIFIC < \"01/03/2020\"].DT_NOTIFIC.count()"
   ]
  },
  {
   "cell_type": "markdown",
   "metadata": {},
   "source": [
    "Estranho haver apenas 28 casos antes da data de 01/03/2020. Acredito que a base não está completa. As bases do começo do mes de junho traziam as SRAGs anteriores.\n",
    "Vamos olhar esta variável para entender os casos de CLASSI_FIN == 4, pois acredito que muitos desses casos são covids."
   ]
  },
  {
   "cell_type": "code",
   "execution_count": 18,
   "metadata": {},
   "outputs": [
    {
     "data": {
      "text/html": [
       "<div>\n",
       "<style scoped>\n",
       "    .dataframe tbody tr th:only-of-type {\n",
       "        vertical-align: middle;\n",
       "    }\n",
       "\n",
       "    .dataframe tbody tr th {\n",
       "        vertical-align: top;\n",
       "    }\n",
       "\n",
       "    .dataframe thead th {\n",
       "        text-align: right;\n",
       "    }\n",
       "</style>\n",
       "<table border=\"1\" class=\"dataframe\">\n",
       "  <thead>\n",
       "    <tr style=\"text-align: right;\">\n",
       "      <th></th>\n",
       "      <th>DT_NOTIFIC</th>\n",
       "      <th>SEM_NOT</th>\n",
       "      <th>DT_SIN_PRI</th>\n",
       "      <th>SEM_PRI</th>\n",
       "      <th>SG_UF_NOT</th>\n",
       "      <th>ID_REGIONA</th>\n",
       "      <th>CO_REGIONA</th>\n",
       "      <th>ID_MUNICIP</th>\n",
       "      <th>CO_MUN_NOT</th>\n",
       "      <th>ID_UNIDADE</th>\n",
       "      <th>...</th>\n",
       "      <th>DT_SAIDUTI</th>\n",
       "      <th>SUPORT_VEN</th>\n",
       "      <th>IF_RESUL</th>\n",
       "      <th>POS_PCRFLU</th>\n",
       "      <th>CLASSI_FIN</th>\n",
       "      <th>CRITERIO</th>\n",
       "      <th>EVOLUCAO</th>\n",
       "      <th>DT_EVOLUCA</th>\n",
       "      <th>DT_ENCERRA</th>\n",
       "      <th>DT_DIGITA</th>\n",
       "    </tr>\n",
       "  </thead>\n",
       "  <tbody>\n",
       "    <tr>\n",
       "      <th>135983</th>\n",
       "      <td>14/05/2020</td>\n",
       "      <td>20</td>\n",
       "      <td>13/05/2020</td>\n",
       "      <td>20</td>\n",
       "      <td>PR</td>\n",
       "      <td>02RS METROPOLITANA</td>\n",
       "      <td>1356.0</td>\n",
       "      <td>CURITIBA</td>\n",
       "      <td>410690</td>\n",
       "      <td>HOSPITAL INFANTIL PEQUENO PRINCIPE</td>\n",
       "      <td>...</td>\n",
       "      <td>00000000</td>\n",
       "      <td>3.0</td>\n",
       "      <td>4.0</td>\n",
       "      <td>NaN</td>\n",
       "      <td>4.0</td>\n",
       "      <td>1.0</td>\n",
       "      <td>1.0</td>\n",
       "      <td>17/05/2020</td>\n",
       "      <td>19/05/2020</td>\n",
       "      <td>14/05/2020</td>\n",
       "    </tr>\n",
       "    <tr>\n",
       "      <th>227836</th>\n",
       "      <td>04/06/2020</td>\n",
       "      <td>23</td>\n",
       "      <td>22/05/2020</td>\n",
       "      <td>21</td>\n",
       "      <td>SP</td>\n",
       "      <td>GVE I CAPITAL</td>\n",
       "      <td>1331.0</td>\n",
       "      <td>SAO PAULO</td>\n",
       "      <td>355030</td>\n",
       "      <td>HOSPITAL ISRAELITA ALBERT EINSTEIN</td>\n",
       "      <td>...</td>\n",
       "      <td>22/05/2020</td>\n",
       "      <td>2.0</td>\n",
       "      <td>9.0</td>\n",
       "      <td>NaN</td>\n",
       "      <td>4.0</td>\n",
       "      <td>1.0</td>\n",
       "      <td>1.0</td>\n",
       "      <td>02/06/2020</td>\n",
       "      <td>17/06/2020</td>\n",
       "      <td>04/06/2020</td>\n",
       "    </tr>\n",
       "    <tr>\n",
       "      <th>121757</th>\n",
       "      <td>02/05/2020</td>\n",
       "      <td>18</td>\n",
       "      <td>28/04/2020</td>\n",
       "      <td>18</td>\n",
       "      <td>AM</td>\n",
       "      <td>ENTORNO DE MANAUS E RIO NEGRO</td>\n",
       "      <td>5584.0</td>\n",
       "      <td>MANAUS</td>\n",
       "      <td>130260</td>\n",
       "      <td>HOSPITAL E PRONTO SOCORRO DR ARISTOTELES PLATA...</td>\n",
       "      <td>...</td>\n",
       "      <td>00000000</td>\n",
       "      <td>2.0</td>\n",
       "      <td>5.0</td>\n",
       "      <td>NaN</td>\n",
       "      <td>4.0</td>\n",
       "      <td>1.0</td>\n",
       "      <td>2.0</td>\n",
       "      <td>02/05/2020</td>\n",
       "      <td>11/05/2020</td>\n",
       "      <td>11/05/2020</td>\n",
       "    </tr>\n",
       "    <tr>\n",
       "      <th>90998</th>\n",
       "      <td>01/05/2020</td>\n",
       "      <td>18</td>\n",
       "      <td>23/04/2020</td>\n",
       "      <td>17</td>\n",
       "      <td>AM</td>\n",
       "      <td>ENTORNO DE MANAUS E RIO NEGRO</td>\n",
       "      <td>5584.0</td>\n",
       "      <td>MANAUS</td>\n",
       "      <td>130260</td>\n",
       "      <td>HOSPITAL E PRONTO SOCORRO DA ZONA NORTE DELPHI...</td>\n",
       "      <td>...</td>\n",
       "      <td>00000000</td>\n",
       "      <td>2.0</td>\n",
       "      <td>4.0</td>\n",
       "      <td>NaN</td>\n",
       "      <td>4.0</td>\n",
       "      <td>1.0</td>\n",
       "      <td>2.0</td>\n",
       "      <td>09/05/2020</td>\n",
       "      <td>18/05/2020</td>\n",
       "      <td>02/05/2020</td>\n",
       "    </tr>\n",
       "  </tbody>\n",
       "</table>\n",
       "<p>4 rows × 69 columns</p>\n",
       "</div>"
      ],
      "text/plain": [
       "        DT_NOTIFIC  SEM_NOT  DT_SIN_PRI  SEM_PRI SG_UF_NOT  \\\n",
       "135983  14/05/2020       20  13/05/2020       20        PR   \n",
       "227836  04/06/2020       23  22/05/2020       21        SP   \n",
       "121757  02/05/2020       18  28/04/2020       18        AM   \n",
       "90998   01/05/2020       18  23/04/2020       17        AM   \n",
       "\n",
       "                           ID_REGIONA  CO_REGIONA ID_MUNICIP  CO_MUN_NOT  \\\n",
       "135983             02RS METROPOLITANA      1356.0   CURITIBA      410690   \n",
       "227836                  GVE I CAPITAL      1331.0  SAO PAULO      355030   \n",
       "121757  ENTORNO DE MANAUS E RIO NEGRO      5584.0     MANAUS      130260   \n",
       "90998   ENTORNO DE MANAUS E RIO NEGRO      5584.0     MANAUS      130260   \n",
       "\n",
       "                                               ID_UNIDADE  ...  DT_SAIDUTI  \\\n",
       "135983                 HOSPITAL INFANTIL PEQUENO PRINCIPE  ...    00000000   \n",
       "227836                 HOSPITAL ISRAELITA ALBERT EINSTEIN  ...  22/05/2020   \n",
       "121757  HOSPITAL E PRONTO SOCORRO DR ARISTOTELES PLATA...  ...    00000000   \n",
       "90998   HOSPITAL E PRONTO SOCORRO DA ZONA NORTE DELPHI...  ...    00000000   \n",
       "\n",
       "       SUPORT_VEN IF_RESUL  POS_PCRFLU  CLASSI_FIN  CRITERIO  EVOLUCAO  \\\n",
       "135983        3.0      4.0         NaN         4.0       1.0       1.0   \n",
       "227836        2.0      9.0         NaN         4.0       1.0       1.0   \n",
       "121757        2.0      5.0         NaN         4.0       1.0       2.0   \n",
       "90998         2.0      4.0         NaN         4.0       1.0       2.0   \n",
       "\n",
       "        DT_EVOLUCA  DT_ENCERRA   DT_DIGITA  \n",
       "135983  17/05/2020  19/05/2020  14/05/2020  \n",
       "227836  02/06/2020  17/06/2020  04/06/2020  \n",
       "121757  02/05/2020  11/05/2020  11/05/2020  \n",
       "90998   09/05/2020  18/05/2020  02/05/2020  \n",
       "\n",
       "[4 rows x 69 columns]"
      ]
     },
     "execution_count": 18,
     "metadata": {},
     "output_type": "execute_result"
    }
   ],
   "source": [
    "df_clean[df_clean.CLASSI_FIN == 4].sample(4)"
   ]
  },
  {
   "cell_type": "code",
   "execution_count": 19,
   "metadata": {},
   "outputs": [
    {
     "data": {
      "text/plain": [
       "<matplotlib.axes._subplots.AxesSubplot at 0x7f6e8841cb00>"
      ]
     },
     "execution_count": 19,
     "metadata": {},
     "output_type": "execute_result"
    },
    {
     "data": {
      "image/png": "[encoded data removed]",
      "text/plain": [
       "<Figure size 432x288 with 1 Axes>"
      ]
     },
     "metadata": {},
     "output_type": "display_data"
    }
   ],
   "source": [
    "df_clean[(df_clean.CLASSI_FIN == 4) & (df_clean.EVOLUCAO.isin([1,2,9]))].EVOLUCAO.map(lambda x: 9 if x not in (1, 2, 9) else x).plot.hist()"
   ]
  },
  {
   "cell_type": "markdown",
   "metadata": {},
   "source": [
    "Não está claro se estes dados são Covid ou Não. Por este motivo vamos desconsiderar eles em nossa análise. Vamos considerar apenas os casos que de fato foram classificados como Covid."
   ]
  },
  {
   "cell_type": "markdown",
   "metadata": {
    "scrolled": true
   },
   "source": [
    "### > IDADE\n",
    "\n",
    "O primeiro fator de risco apontado pelas notícias é a idade. Então vamos entender um pouco sobre"
   ]
  },
  {
   "cell_type": "code",
   "execution_count": 20,
   "metadata": {},
   "outputs": [],
   "source": [
    "# Mantendo apenas os casos de COVID, embora suspeito que tenha muitos casos de CLASSI_FIN==4 que são COVID.\n",
    "df = df_clean.copy()\n",
    "df = df[df.CLASSI_FIN==5]"
   ]
  },
  {
   "cell_type": "code",
   "execution_count": 21,
   "metadata": {},
   "outputs": [
    {
     "data": {
      "text/plain": [
       "count    138305.000000\n",
       "mean         58.387144\n",
       "std          18.847702\n",
       "min           0.000000\n",
       "25%          45.000000\n",
       "50%          59.000000\n",
       "75%          73.000000\n",
       "max         136.000000\n",
       "Name: NU_IDADE_N, dtype: float64"
      ]
     },
     "execution_count": 21,
     "metadata": {},
     "output_type": "execute_result"
    }
   ],
   "source": [
    "df.NU_IDADE_N.describe()"
   ]
  },
  {
   "cell_type": "code",
   "execution_count": 22,
   "metadata": {},
   "outputs": [
    {
     "data": {
      "text/plain": [
       "(0.0, 110.0)"
      ]
     },
     "execution_count": 22,
     "metadata": {},
     "output_type": "execute_result"
    },
    {
     "data": {
      "image/png": "[encoded data removed]",
      "text/plain": [
       "<Figure size 432x288 with 1 Axes>"
      ]
     },
     "metadata": {},
     "output_type": "display_data"
    }
   ],
   "source": [
    "fig, ax = plt.subplots(nrows=1, ncols=1)\n",
    "df.NU_IDADE_N.plot.kde(ax=ax)\n",
    "ax.set_xlim(0,110)"
   ]
  },
  {
   "cell_type": "code",
   "execution_count": 23,
   "metadata": {},
   "outputs": [
    {
     "data": {
      "text/html": [
       "<div>\n",
       "<style scoped>\n",
       "    .dataframe tbody tr th:only-of-type {\n",
       "        vertical-align: middle;\n",
       "    }\n",
       "\n",
       "    .dataframe tbody tr th {\n",
       "        vertical-align: top;\n",
       "    }\n",
       "\n",
       "    .dataframe thead th {\n",
       "        text-align: right;\n",
       "    }\n",
       "</style>\n",
       "<table border=\"1\" class=\"dataframe\">\n",
       "  <thead>\n",
       "    <tr style=\"text-align: right;\">\n",
       "      <th></th>\n",
       "      <th>count</th>\n",
       "      <th>mean</th>\n",
       "      <th>std</th>\n",
       "      <th>min</th>\n",
       "      <th>25%</th>\n",
       "      <th>50%</th>\n",
       "      <th>75%</th>\n",
       "      <th>max</th>\n",
       "    </tr>\n",
       "    <tr>\n",
       "      <th>EVOLUCAO</th>\n",
       "      <th></th>\n",
       "      <th></th>\n",
       "      <th></th>\n",
       "      <th></th>\n",
       "      <th></th>\n",
       "      <th></th>\n",
       "      <th></th>\n",
       "      <th></th>\n",
       "    </tr>\n",
       "  </thead>\n",
       "  <tbody>\n",
       "    <tr>\n",
       "      <th>1.0</th>\n",
       "      <td>56156.0</td>\n",
       "      <td>52.009919</td>\n",
       "      <td>17.804545</td>\n",
       "      <td>0.0</td>\n",
       "      <td>40.0</td>\n",
       "      <td>52.0</td>\n",
       "      <td>65.0</td>\n",
       "      <td>136.0</td>\n",
       "    </tr>\n",
       "    <tr>\n",
       "      <th>2.0</th>\n",
       "      <td>48776.0</td>\n",
       "      <td>67.931011</td>\n",
       "      <td>16.034870</td>\n",
       "      <td>0.0</td>\n",
       "      <td>58.0</td>\n",
       "      <td>70.0</td>\n",
       "      <td>80.0</td>\n",
       "      <td>114.0</td>\n",
       "    </tr>\n",
       "    <tr>\n",
       "      <th>9.0</th>\n",
       "      <td>5677.0</td>\n",
       "      <td>53.909988</td>\n",
       "      <td>18.285589</td>\n",
       "      <td>0.0</td>\n",
       "      <td>41.0</td>\n",
       "      <td>55.0</td>\n",
       "      <td>67.0</td>\n",
       "      <td>103.0</td>\n",
       "    </tr>\n",
       "  </tbody>\n",
       "</table>\n",
       "</div>"
      ],
      "text/plain": [
       "            count       mean        std  min   25%   50%   75%    max\n",
       "EVOLUCAO                                                             \n",
       "1.0       56156.0  52.009919  17.804545  0.0  40.0  52.0  65.0  136.0\n",
       "2.0       48776.0  67.931011  16.034870  0.0  58.0  70.0  80.0  114.0\n",
       "9.0        5677.0  53.909988  18.285589  0.0  41.0  55.0  67.0  103.0"
      ]
     },
     "execution_count": 23,
     "metadata": {},
     "output_type": "execute_result"
    }
   ],
   "source": [
    "df.groupby('EVOLUCAO').NU_IDADE_N.describe()"
   ]
  },
  {
   "cell_type": "code",
   "execution_count": 24,
   "metadata": {
    "scrolled": true
   },
   "outputs": [
    {
     "data": {
      "text/plain": [
       "'ax=ax'"
      ]
     },
     "execution_count": 24,
     "metadata": {},
     "output_type": "execute_result"
    },
    {
     "data": {
      "image/png": "[encoded data removed]",
      "text/plain": [
       "<Figure size 432x288 with 1 Axes>"
      ]
     },
     "metadata": {},
     "output_type": "display_data"
    }
   ],
   "source": [
    "sns.distplot(df[df.EVOLUCAO == 1].NU_IDADE_N, hist = False, kde = True, kde_kws = {'shade': True, 'linewidth': 2}, label = 'Cura')\n",
    "sns.distplot(df[df.EVOLUCAO == 2].NU_IDADE_N, hist = False, kde = True, kde_kws = {'shade': True, 'linewidth': 2}, label = 'Obito')\n",
    "sns.distplot(df[df.EVOLUCAO == 9].NU_IDADE_N, hist = False, kde = True, kde_kws = {'shade': True, 'linewidth': 2}, label = 'Ignorado')\n",
    "sns.distplot(df[~df.EVOLUCAO.isin([1, 2, 9])].NU_IDADE_N, hist = False, kde = True, kde_kws = {'shade': True, 'linewidth': 2}, label = 'Indefinido')\n",
    ", ax=ax"
   ]
  },
  {
   "cell_type": "code",
   "execution_count": 25,
   "metadata": {
    "scrolled": true
   },
   "outputs": [],
   "source": [
    "df.loc[:, 'IDADE_BINS'] = df.NU_IDADE_N.map(lambda age: 10 * (age // 10))\n",
    "df.loc[:, 'EVOLUCAO_BINS'] = df.EVOLUCAO.map(lambda x: 9 if x not in (1, 2, 9) else x).map({1:'Cura', 2:'Obito', 9:'Indefinido'})"
   ]
  },
  {
   "cell_type": "code",
   "execution_count": 26,
   "metadata": {},
   "outputs": [
    {
     "data": {
      "text/plain": [
       "<matplotlib.axes._subplots.AxesSubplot at 0x7f6e878c0160>"
      ]
     },
     "execution_count": 26,
     "metadata": {},
     "output_type": "execute_result"
    },
    {
     "data": {
      "image/png": "[encoded data removed]",
      "text/plain": [
       "<Figure size 432x288 with 1 Axes>"
      ]
     },
     "metadata": {},
     "output_type": "display_data"
    }
   ],
   "source": [
    "sns.countplot('IDADE_BINS',hue='EVOLUCAO_BINS',data=df[df.IDADE_BINS <= 100])"
   ]
  },
  {
   "cell_type": "code",
   "execution_count": 27,
   "metadata": {},
   "outputs": [
    {
     "name": "stdout",
     "output_type": "stream",
     "text": [
      "A idade media para quem se curou é de 52.01 enquanto a a media para óbito é de 67.93\n",
      "Aparentemente a IDADE é um fator que divide bem a Evolução do COVID, com uma diferencia das médias entre 15.92\n"
     ]
    }
   ],
   "source": [
    "idade_m_evol1 = df[df.EVOLUCAO == 1].NU_IDADE_N.mean()\n",
    "idade_m_evol2 = df[df.EVOLUCAO == 2].NU_IDADE_N.mean()\n",
    "\n",
    "print(f\"A idade media para quem se curou é de {idade_m_evol1:.2f} enquanto a a media para óbito é de {idade_m_evol2:.2f}\")\n",
    "print(\"Aparentemente a IDADE é um fator que divide bem a Evolução do COVID, com uma diferencia das médias entre {0:.2f}\".format(abs(idade_m_evol1 - idade_m_evol2)))"
   ]
  },
  {
   "cell_type": "markdown",
   "metadata": {},
   "source": [
    "### > SINTOMAS (sintomas_cols)\n",
    "\n",
    "Analisaremos os Sintomas e tentaremos entender algumas informações\n",
    "* Qual o sintoma mais presente nos casos de covid (independente da evolução)\n",
    "* Se existe algum sintoma esta presente mais nos casos de Óbito do que de Cura.\n",
    "\n",
    "Existem muitos pacientes que não reportaram os sintomas, então para está análise vamos considerar apenas os que reportaram.\n",
    "\n",
    "Valores possíveis de acordo com o Dicionário de Dados:\n",
    "1. Sim\n",
    "2. Não\n",
    "9. Ignorado"
   ]
  },
  {
   "cell_type": "code",
   "execution_count": 28,
   "metadata": {},
   "outputs": [],
   "source": [
    "# Mantendo apenas os casos de COVID, embora suspeito que tenha muitos casos de CLASSI_FIN==4 que são COVID.\n",
    "df = df_clean.copy()\n",
    "df = df[df.CLASSI_FIN==5]"
   ]
  },
  {
   "cell_type": "code",
   "execution_count": 29,
   "metadata": {},
   "outputs": [
    {
     "name": "stdout",
     "output_type": "stream",
     "text": [
      "Usaremos as seguintes colunas para este análise:\n",
      "FEBRE, TOSSE, GARGANTA, DISPNEIA, DESC_RESP, SATURACAO, DIARREIA, VOMITO, OUTRO_DES\n"
     ]
    }
   ],
   "source": [
    "print(\"Usaremos as seguintes colunas para este análise:\")\n",
    "print(*sintomas_cols, sep=\", \")"
   ]
  },
  {
   "cell_type": "code",
   "execution_count": 30,
   "metadata": {},
   "outputs": [
    {
     "data": {
      "text/plain": [
       "(138305, 9)"
      ]
     },
     "execution_count": 30,
     "metadata": {},
     "output_type": "execute_result"
    }
   ],
   "source": [
    "df.loc[:, sintomas_cols].shape\n",
    "# 138305 linhas"
   ]
  },
  {
   "cell_type": "code",
   "execution_count": 31,
   "metadata": {},
   "outputs": [
    {
     "data": {
      "text/html": [
       "<div>\n",
       "<style scoped>\n",
       "    .dataframe tbody tr th:only-of-type {\n",
       "        vertical-align: middle;\n",
       "    }\n",
       "\n",
       "    .dataframe tbody tr th {\n",
       "        vertical-align: top;\n",
       "    }\n",
       "\n",
       "    .dataframe thead th {\n",
       "        text-align: right;\n",
       "    }\n",
       "</style>\n",
       "<table border=\"1\" class=\"dataframe\">\n",
       "  <thead>\n",
       "    <tr style=\"text-align: right;\">\n",
       "      <th></th>\n",
       "      <th>FEBRE</th>\n",
       "      <th>TOSSE</th>\n",
       "      <th>GARGANTA</th>\n",
       "      <th>DISPNEIA</th>\n",
       "      <th>DESC_RESP</th>\n",
       "      <th>SATURACAO</th>\n",
       "      <th>DIARREIA</th>\n",
       "      <th>VOMITO</th>\n",
       "      <th>OUTRO_DES</th>\n",
       "    </tr>\n",
       "  </thead>\n",
       "  <tbody>\n",
       "    <tr>\n",
       "      <th>250871</th>\n",
       "      <td>1.0</td>\n",
       "      <td>2.0</td>\n",
       "      <td>2.0</td>\n",
       "      <td>2.0</td>\n",
       "      <td>2.0</td>\n",
       "      <td>2.0</td>\n",
       "      <td>2.0</td>\n",
       "      <td>2.0</td>\n",
       "      <td>9</td>\n",
       "    </tr>\n",
       "    <tr>\n",
       "      <th>235506</th>\n",
       "      <td>1.0</td>\n",
       "      <td>1.0</td>\n",
       "      <td>9.0</td>\n",
       "      <td>1.0</td>\n",
       "      <td>1.0</td>\n",
       "      <td>1.0</td>\n",
       "      <td>9.0</td>\n",
       "      <td>9.0</td>\n",
       "      <td>9</td>\n",
       "    </tr>\n",
       "    <tr>\n",
       "      <th>155090</th>\n",
       "      <td>1.0</td>\n",
       "      <td>1.0</td>\n",
       "      <td>9.0</td>\n",
       "      <td>1.0</td>\n",
       "      <td>9.0</td>\n",
       "      <td>1.0</td>\n",
       "      <td>9.0</td>\n",
       "      <td>9.0</td>\n",
       "      <td>9</td>\n",
       "    </tr>\n",
       "    <tr>\n",
       "      <th>121523</th>\n",
       "      <td>2.0</td>\n",
       "      <td>1.0</td>\n",
       "      <td>2.0</td>\n",
       "      <td>2.0</td>\n",
       "      <td>2.0</td>\n",
       "      <td>2.0</td>\n",
       "      <td>1.0</td>\n",
       "      <td>2.0</td>\n",
       "      <td>9</td>\n",
       "    </tr>\n",
       "  </tbody>\n",
       "</table>\n",
       "</div>"
      ],
      "text/plain": [
       "        FEBRE  TOSSE  GARGANTA  DISPNEIA  DESC_RESP  SATURACAO  DIARREIA  \\\n",
       "250871    1.0    2.0       2.0       2.0        2.0        2.0       2.0   \n",
       "235506    1.0    1.0       9.0       1.0        1.0        1.0       9.0   \n",
       "155090    1.0    1.0       9.0       1.0        9.0        1.0       9.0   \n",
       "121523    2.0    1.0       2.0       2.0        2.0        2.0       1.0   \n",
       "\n",
       "        VOMITO OUTRO_DES  \n",
       "250871     2.0         9  \n",
       "235506     9.0         9  \n",
       "155090     9.0         9  \n",
       "121523     2.0         9  "
      ]
     },
     "execution_count": 31,
     "metadata": {},
     "output_type": "execute_result"
    }
   ],
   "source": [
    "df.loc[:, sintomas_cols] = df.loc[:, sintomas_cols].fillna(9.0)\n",
    "df.loc[:, sintomas_cols].sample(4)"
   ]
  },
  {
   "cell_type": "code",
   "execution_count": 60,
   "metadata": {},
   "outputs": [
    {
     "name": "stdout",
     "output_type": "stream",
     "text": [
      "FEBRE\n",
      "1.0    98240\n",
      "2.0    24313\n",
      "9.0    15752\n",
      "Name: FEBRE, dtype: int64\n",
      "TOSSE\n",
      "1.0    103246\n",
      "2.0     19873\n",
      "9.0     15186\n",
      "Name: FEBRE, dtype: int64\n",
      "GARGANTA\n",
      "1.0    28295\n",
      "2.0    70298\n",
      "9.0    39712\n",
      "Name: FEBRE, dtype: int64\n",
      "DISPNEIA\n",
      "1.0    95380\n",
      "2.0    26199\n",
      "9.0    16726\n",
      "Name: FEBRE, dtype: int64\n"
     ]
    }
   ],
   "source": [
    "print(df.groupby('FEBRE').FEBRE.count())\n",
    "print(df.groupby('TOSSE').FEBRE.count())\n",
    "print(df.groupby('GARGANTA').FEBRE.count())\n",
    "print(df.groupby('DISPNEIA').FEBRE.count())"
   ]
  }
 ],
 "metadata": {
  "kernelspec": {
   "display_name": "Python 3",
   "language": "python",
   "name": "python3"
  },
  "language_info": {
   "codemirror_mode": {
    "name": "ipython",
    "version": 3
   },
   "file_extension": ".py",
   "mimetype": "text/x-python",
   "name": "python",
   "nbconvert_exporter": "python",
   "pygments_lexer": "ipython3",
   "version": "3.6.9"
  }
 },
 "nbformat": 4,
 "nbformat_minor": 4
}
