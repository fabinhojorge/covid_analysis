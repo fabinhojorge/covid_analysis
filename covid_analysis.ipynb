{
 "cells": [
  {
   "cell_type": "markdown",
   "metadata": {},
   "source": [
    "# Análise do covid no Brasil\n",
    "\n",
    "## Introdução\n",
    "\n",
    "Esta é uma análise exploratória inicial dos dados do COVID-19 no Brasil.\n",
    "\n",
    "\n",
    "### Objetivo\n",
    "\n",
    "O principal objetivo é entender a distribuição da população contaminada por COVID-19 e verificar se fatores como idade e sexo contribuem para complicação da doença.\n",
    "Também será feita uma análise em cima dos óbitos.\n",
    "\n",
    "### Metodologia\n",
    "\n",
    "Na primeira parte, é feita uma análise na base e em suas variáveis, entendendo o significado e distribuição delas. E caso necessário, realizamos alguma limpeza/tratamento.\n",
    "\n",
    "Na segunda parte da análise, criamos algumas hipóteses a respeito dos dados. \n",
    "\n",
    "### Resultado Esperado\n",
    "\n",
    "O resultado sera analisado por meio de graficos, a fim de entendermos as distribuições e suas caracteristicas.\n",
    "Além disso, podera ser usado um comparativo para ver se as hipóteses possuem significância estatística.\n",
    "\n",
    "\n",
    "## Base de Dados\n",
    "\n",
    "Foi utilizado dados abertos disponíveis em [https://opendatasus.saude.gov.br/dataset/bd-srag-2020](https://opendatasus.saude.gov.br/dataset/bd-srag-2020) com a data de 18/05/2020.\n",
    "\n",
    "Esta base é disponibilizada pelo ***Vigilância de Síndrome Respiratória Aguda Grave (SRAG)***. O SRAG é um programa da Secretaria de Vigilância em Saúde (SVS).\n",
    "\n",
    "O Dicionário com o significado de cada uma das colunas esta localizado [Aqui](https://opendatasus.saude.gov.br/dataset/9bc2013f-f293-4f3e-94e7-fa76204fc035/resource/20e51b77-b129-4fd5-84f6-e9428ab5e286/download/dicionario_de_dados_srag_hospitalizado_atual-sivepgripe.pdf)"
   ]
  },
  {
   "cell_type": "markdown",
   "metadata": {},
   "source": [
    "## Análise da Base e das Características"
   ]
  },
  {
   "cell_type": "code",
   "execution_count": 1,
   "metadata": {},
   "outputs": [],
   "source": [
    "import pandas as pd\n",
    "import numpy as np\n",
    "import matplotlib.pyplot as plt\n",
    "import seaborn as sns"
   ]
  },
  {
   "cell_type": "code",
   "execution_count": 2,
   "metadata": {},
   "outputs": [],
   "source": [
    "df_full = pd.read_csv('data/sraghosp_18.05.2020.csv', low_memory=False)"
   ]
  },
  {
   "cell_type": "code",
   "execution_count": 3,
   "metadata": {},
   "outputs": [
    {
     "name": "stdout",
     "output_type": "stream",
     "text": [
      "<class 'pandas.core.frame.DataFrame'>\n",
      "RangeIndex: 157268 entries, 0 to 157267\n",
      "Columns: 141 entries, Unnamed: 0 to PAC_DSCBO\n",
      "dtypes: float64(80), int64(11), object(50)\n",
      "memory usage: 169.2+ MB\n"
     ]
    }
   ],
   "source": [
    "df_full.info()"
   ]
  },
  {
   "cell_type": "code",
   "execution_count": 5,
   "metadata": {},
   "outputs": [
    {
     "data": {
      "text/plain": [
       "(43906, 141)"
      ]
     },
     "execution_count": 5,
     "metadata": {},
     "output_type": "execute_result"
    }
   ],
   "source": [
    "df_full[df_full.CLASSI_FIN==5].shape"
   ]
  },
  {
   "cell_type": "code",
   "execution_count": 28,
   "metadata": {},
   "outputs": [],
   "source": [
    "## CLASSI_FIN==5 is for COVID only\n",
    "df = df_full[df_full.CLASSI_FIN==5]"
   ]
  }
 ],
 "metadata": {
  "kernelspec": {
   "display_name": "Python 3",
   "language": "python",
   "name": "python3"
  },
  "language_info": {
   "codemirror_mode": {
    "name": "ipython",
    "version": 3
   },
   "file_extension": ".py",
   "mimetype": "text/x-python",
   "name": "python",
   "nbconvert_exporter": "python",
   "pygments_lexer": "ipython3",
   "version": "3.6.9"
  }
 },
 "nbformat": 4,
 "nbformat_minor": 4
}
